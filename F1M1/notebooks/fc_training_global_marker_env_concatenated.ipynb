{
 "cells": [
  {
   "cell_type": "code",
   "execution_count": 1,
   "metadata": {
    "colab": {
     "base_uri": "https://localhost:8080/"
    },
    "id": "RWXlkcg6QG9C",
    "outputId": "41ae057d-eb20-4d5f-ee09-6a134cc0abe4"
   },
   "outputs": [],
   "source": [
    "# !pip install torch\n",
    "# !pip install pandas\n",
    "# !pip install scikit-learn\n"
   ]
  },
  {
   "cell_type": "code",
   "execution_count": 2,
   "metadata": {
    "colab": {
     "base_uri": "https://localhost:8080/"
    },
    "id": "BtqSHqf3QZZF",
    "outputId": "b1501297-c448-4543-9a04-9a872597c7a0"
   },
   "outputs": [],
   "source": [
    "# from google.colab import drive\n",
    "# drive.mount('/content/drive')"
   ]
  },
  {
   "cell_type": "code",
   "execution_count": 3,
   "metadata": {
    "colab": {
     "base_uri": "https://localhost:8080/"
    },
    "id": "6yxgW5f4QcXa",
    "outputId": "0108d51d-d1bf-4eb6-9e4e-fde3a21c7c10"
   },
   "outputs": [
    {
     "name": "stdout",
     "output_type": "stream",
     "text": [
      "[Errno 2] No such file or directory: '/content/drive/MyDrive/final_exp/code'\n",
      "/Users/sheikhjubair/Documents/wheat_large/code\n"
     ]
    }
   ],
   "source": [
    "%cd /content/drive/MyDrive/final_exp/code"
   ]
  },
  {
   "cell_type": "code",
   "execution_count": 4,
   "metadata": {
    "id": "DgW42RA0QOoD"
   },
   "outputs": [
    {
     "name": "stderr",
     "output_type": "stream",
     "text": [
      "/Users/sheikhjubair/anaconda3/envs/blackice/lib/python3.9/site-packages/scipy/__init__.py:146: UserWarning: A NumPy version >=1.16.5 and <1.23.0 is required for this version of SciPy (detected version 1.23.1\n",
      "  warnings.warn(f\"A NumPy version >={np_minversion} and <{np_maxversion}\"\n"
     ]
    }
   ],
   "source": [
    "import torch\n",
    "import torch.nn as nn\n",
    "from torch import optim\n",
    "import torch.nn.functional as F\n",
    "from torch.autograd import Variable\n",
    "from torch.utils.data import Dataset, DataLoader\n",
    "import pickle\n",
    "from scipy.stats import pearsonr\n",
    "import numpy as np\n",
    "import copy\n",
    "from sklearn.preprocessing import MinMaxScaler\n",
    "import pandas as pd"
   ]
  },
  {
   "cell_type": "code",
   "execution_count": 5,
   "metadata": {},
   "outputs": [],
   "source": [
    "version = 'v1'"
   ]
  },
  {
   "cell_type": "code",
   "execution_count": 6,
   "metadata": {
    "id": "6YQ2qJi7QG9H"
   },
   "outputs": [],
   "source": [
    "geno_training_file = '../processed_data/tr_geno_with_8_m_avg_{}.pkl'.format(version)\n",
    "pheno_training_file = '../processed_data/tr_pheno_with_8_m_avg_{}.pkl'.format(version)\n",
    "\n",
    "geno_test_file = '../processed_data/test_geno_with_8_m_avg_{}.pkl'.format(version)\n",
    "pheno_test_file = '../processed_data/test_pheno_with_8_m_avg_{}.pkl'.format(version)\n",
    "\n",
    "geno_test_file_unique_env = '../processed_data/test_geno_unique_env_with_8_m_avg_{}.pkl'.format(version)\n",
    "pheno_test_file_unique_env = '../processed_data/test_pheno_uniqeu_env_with_8_m_avg_{}.pkl'.format(version)\n",
    "\n",
    "geno_val_file = '../processed_data/val_geno_with_8_m_avg_{}.pkl'.format(version)\n",
    "pheno_val_file = '../processed_data/val_pheno_with_8_m_avg_{}.pkl'.format(version)"
   ]
  },
  {
   "cell_type": "code",
   "execution_count": 7,
   "metadata": {},
   "outputs": [],
   "source": [
    "model_path = '../models/fc_global_marker_env_concatenated_{}.pt'.format(version)\n",
    "pcc_model_path = '../models/fc_model_env_pcc_middle_global_features_version_{}.pt'.format(version)\n",
    "target_scaler_path = '../outputs/target_scaler_global_features_{}.pkl'.format(version)\n",
    "env_scaler_path = '../outputs/env_scaler_global_features_{}.pkl'.format(version)\n",
    "training_output_path = '../outputs/env_middle_training_outputs_global_features_' + version + '.pkl'\n",
    "figure_loss_path = '../figures/loss_env_middle_global_features_' + version + '.jpeg'\n",
    "figure_pcc_path = '../figures/pcc_env_moddle_global_features_' + version + '.jpeg'\n",
    "test_output_all_env_path = '../outputs/predicted_all_env_global_features_' + version + '.pkl'\n",
    "test_output_unique_env_path = '../outputs/predicted_unique_env_global_features_' + version + '.pkl'"
   ]
  },
  {
   "cell_type": "code",
   "execution_count": 8,
   "metadata": {},
   "outputs": [],
   "source": [
    "def rescale_data(scaler, predicted):\n",
    "    rescaled = scaler.inverse_transform(predicted.reshape(-1,1))\n",
    "    \n",
    "    return rescaled.reshape(-1,)"
   ]
  },
  {
   "cell_type": "code",
   "execution_count": 9,
   "metadata": {
    "id": "TEeuCzMJQG9H"
   },
   "outputs": [],
   "source": [
    "### Transformer Model"
   ]
  },
  {
   "cell_type": "code",
   "execution_count": 10,
   "metadata": {
    "id": "lIfi1o7kQG9I"
   },
   "outputs": [],
   "source": [
    "class FCModel(nn.Module):\n",
    "    def __init__(self, num_env, num_geno, reduce_dim=2666, output_dim=1):\n",
    "        super(FCModel, self).__init__()\n",
    "\n",
    "        self.reduce_dim = reduce_dim\n",
    "        self.num_geno = num_geno\n",
    "        self.num_env = num_env\n",
    "\n",
    "        \n",
    "\n",
    "        self.fc1 = nn.Linear(num_geno, reduce_dim)\n",
    "        self.relu1 = nn.ReLU()\n",
    "        # self.maxpool1 = nn.MaxPool1d(2)\n",
    "        \n",
    "        \n",
    "        self.fc2 = nn.Linear(reduce_dim, reduce_dim)\n",
    "        self.relu2 = nn.ReLU()\n",
    "        # self.maxpool2 = nn.MaxPool1d(2)\n",
    "        \n",
    "        self.fc3 = nn.Linear(reduce_dim, reduce_dim)\n",
    "        self.relu3 = nn.ReLU()\n",
    "        # self.maxpool3 = nn.MaxPool1d(2)\n",
    "\n",
    "        self.fc4 = nn.Linear(reduce_dim, reduce_dim)\n",
    "        self.relu4 = nn.ReLU()\n",
    "\n",
    "        self.fc5 = nn.Linear(reduce_dim, reduce_dim)\n",
    "        self.relu5 = nn.ReLU()\n",
    "\n",
    "        self.fc6 = nn.Linear(reduce_dim, reduce_dim)\n",
    "        self.relu6 = nn.ReLU()\n",
    "\n",
    "        self.fc7 = nn.Linear(reduce_dim, reduce_dim)\n",
    "        self.relu7 = nn.ReLU()\n",
    "\n",
    "        self.fc8 = nn.Linear(reduce_dim, reduce_dim)\n",
    "        self.relu8 = nn.ReLU()\n",
    "\n",
    "        self.fc9 = nn.Linear(reduce_dim, reduce_dim)\n",
    "        self.relu9 = nn.ReLU()\n",
    "\n",
    "        self.fc10 = nn.Linear(reduce_dim, reduce_dim)\n",
    "        self.relu10 = nn.ReLU()\n",
    "\n",
    "        self.fc11 = nn.Linear(reduce_dim, reduce_dim)\n",
    "        self.relu11 = nn.ReLU()\n",
    "\n",
    "        self.fc12 = nn.Linear(reduce_dim, reduce_dim)\n",
    "        self.relu12 = nn.ReLU()\n",
    "        \n",
    "        \n",
    "        self.fc13 = nn.Linear(reduce_dim, reduce_dim)\n",
    "        self.relu13 = nn.ReLU()\n",
    "        \n",
    "        \n",
    "        self.fc14 = nn.Linear(reduce_dim, reduce_dim)\n",
    "        self.relu14 = nn.ReLU()\n",
    "        \n",
    "        self.fc15 = nn.Linear(reduce_dim, 54)\n",
    "        self.relu15 = nn.ReLU()\n",
    "        \n",
    "        \n",
    "        self.regress = nn.Linear(54, output_dim)\n",
    "        \n",
    "    def forward(self, x):\n",
    "        x = self.fc1(x)\n",
    "        x = self.relu1(x)\n",
    "        d = x\n",
    "\n",
    "        x = self.fc2(d)\n",
    "        x = self.relu2(x)\n",
    "\n",
    "        x = self.fc3(d)\n",
    "        x = self.relu3(x)\n",
    "\n",
    "        x = d + x\n",
    "        d = x\n",
    "\n",
    "        x = self.fc4(x)\n",
    "        x = self.relu4(x)\n",
    "        \n",
    "        x = self.fc5(x)\n",
    "        x = self.relu5(x)\n",
    "\n",
    "        x = d + x\n",
    "        d = x\n",
    "        \n",
    "\n",
    "        x = self.fc6(x)\n",
    "        x = self.relu6(x)\n",
    "        \n",
    "        x = self.fc7(x)\n",
    "        x = self.relu7(x)\n",
    "\n",
    "        x = d + x\n",
    "        d = x\n",
    "        \n",
    "        x = self.fc8(x)\n",
    "        x = self.relu8(x)\n",
    "\n",
    "        x = self.fc9(x)\n",
    "        x = self.relu9(x)\n",
    "\n",
    "        x = d + x\n",
    "        d = x\n",
    "        \n",
    "        x = self.fc10(x)\n",
    "        x = self.relu10(x)\n",
    "\n",
    "        x = self.fc11(x)\n",
    "        x = self.relu11(x)\n",
    "\n",
    "        x = d + x\n",
    "        d = x\n",
    "        \n",
    "        x = self.fc12(x)\n",
    "        x = self.relu12(x)\n",
    "\n",
    "        x = self.fc13(x)\n",
    "        x = self.relu13(x)\n",
    "        \n",
    "        x = self.fc14(x)\n",
    "        x = self.relu14(x)\n",
    "        \n",
    "        x = d + x\n",
    "        d = x\n",
    "        \n",
    "        x = self.fc15(x)\n",
    "        x = self.relu15(x)\n",
    "        \n",
    "        \n",
    "       \n",
    "        x = self.regress(x)\n",
    "        \n",
    "        return x"
   ]
  },
  {
   "cell_type": "code",
   "execution_count": 11,
   "metadata": {
    "id": "tXAPq2J1QG9I"
   },
   "outputs": [],
   "source": [
    "class WheatDataset(Dataset):\n",
    "    def __init__(self, geno_file, target_file, scaler=None, output_scaler=None):\n",
    "        self.scaler = scaler\n",
    "        self.output_scaler=output_scaler\n",
    "        with open(geno_file, 'rb') as pfile:\n",
    "            self.data = pickle.load(pfile)\n",
    "\n",
    "        with open(target_file, 'rb') as pfile:\n",
    "            self.target = pickle.load(pfile)\n",
    "        \n",
    "\n",
    "        ind = self.target <= 10\n",
    "        self.target = self.target[ind]\n",
    "        self.data = self.data[ind]\n",
    "        \n",
    "        # Remove this line to run with global + local marker set\n",
    "        self.data = np.delete(self.data, np.arange(2000, 4052), axis=1)\n",
    "        \n",
    "        self.target_original_space = self.target\n",
    "        self.target_original_space = self.target_original_space.reshape(-1,)\n",
    "\n",
    "        self.target = self.target.reshape(-1, 1)\n",
    "\n",
    "        print('number of markers: ', self.data.shape[1])\n",
    "        print(np.average(self.target))\n",
    "        print(np.max(self.target))\n",
    "\n",
    "        if scaler == None:\n",
    "            self.scaler= MinMaxScaler()\n",
    "            self.data[:, -81:] = self.scaler.fit_transform(self.data[:, -81:])\n",
    "        else:\n",
    "            self.data[:, -81:] = self.scaler.transform(self.data[:, -81:])\n",
    "            \n",
    "        if self.output_scaler == None:\n",
    "            self.output_scaler = MinMaxScaler()\n",
    "            self.target = self.output_scaler.fit_transform(self.target)\n",
    "        else:\n",
    "            self.target = self.output_scaler.transform(self.target)\n",
    "\n",
    "        self.target = self.target.reshape(-1,)\n",
    "\n",
    "    def __len__(self):\n",
    "        return self.data.shape[0]\n",
    "    \n",
    "    \n",
    "    def __getitem__(self, ind):\n",
    "        return self.data[ind], self.target[ind], self.target_original_space[ind]"
   ]
  },
  {
   "cell_type": "code",
   "execution_count": 12,
   "metadata": {
    "id": "5Cyih565QG9J"
   },
   "outputs": [],
   "source": [
    "def calculate_perf_measure(true, predicted):\n",
    "    pcc, pval = pearsonr(true, predicted)\n",
    "    \n",
    "    return pcc"
   ]
  },
  {
   "cell_type": "code",
   "execution_count": 13,
   "metadata": {
    "id": "ByKNkszRE3Qr"
   },
   "outputs": [],
   "source": [
    "def pcc_loss(true, predicted):\n",
    "  x = predicted\n",
    "  y = true\n",
    "\n",
    "#   vx = x - torch.mean(x)\n",
    "#   vy = y - torch.mean(y)\n",
    "\n",
    "#   cost = torch.sum(vx * vy) / (torch.sqrt(torch.sum(vx ** 2)) * torch.sqrt(torch.sum(vy ** 2)))\n",
    "  \n",
    "  x = torch.cat((true, predicted),0)\n",
    "  cost = torch.corrcoef(x)\n",
    "  cost = cost[0,1]\n",
    "  #v2 code added here\n",
    "  mse_loss = torch.mean((predicted -true)**2)\n",
    "\n",
    "  total_cost = (1 - cost) + mse_loss\n",
    "\n",
    "  return total_cost"
   ]
  },
  {
   "cell_type": "code",
   "execution_count": 14,
   "metadata": {
    "id": "7RsdyzwNQG9K"
   },
   "outputs": [],
   "source": [
    "def train(dataloader, model, criterion, optimizer):\n",
    "    # device = 'cuda' if torch.cuda.is_available() else 'cpu'\n",
    "    device = torch.device(\"mps\")\n",
    "    model = model.to(device)\n",
    "    model.train()\n",
    "    \n",
    "    tr_running_loss = 0\n",
    "    predicted = []\n",
    "    true = []\n",
    "    count = 0\n",
    "    for data, target, target_output in dataloader:\n",
    "        data = data.float()\n",
    "        data = data.to(device)\n",
    "        target= target.float()\n",
    "        target = target.to(device)\n",
    "        \n",
    "        \n",
    "        optimizer.zero_grad()\n",
    "        \n",
    "        outputs = model(data)\n",
    "        outputs= outputs.view(-1,)\n",
    "        \n",
    "        loss = criterion(target, outputs)\n",
    "        loss.backward()\n",
    "        \n",
    "        optimizer.step()\n",
    "        \n",
    "        tr_running_loss += loss.item()\n",
    "        \n",
    "    \n",
    "        predicted += outputs.detach().cpu().numpy().tolist()\n",
    "        true += target.detach().cpu().numpy().tolist()\n",
    "\n",
    "        count+=1\n",
    "\n",
    "        # print('batch {} completed'.format(count))\n",
    "\n",
    "    tr_running_loss = tr_running_loss / count    \n",
    "    predicted = np.array(predicted)\n",
    "    true = np.array(true)\n",
    "    \n",
    "    pcc = calculate_perf_measure(true, predicted)\n",
    "        \n",
    "    return tr_running_loss, pcc, model"
   ]
  },
  {
   "cell_type": "code",
   "execution_count": 15,
   "metadata": {
    "id": "JU7EWZ-sQG9K"
   },
   "outputs": [],
   "source": [
    "def evaluate(dataloader, model, criterion):\n",
    "    # device = 'cuda' if torch.cuda.is_available() else 'cpu'\n",
    "    device = torch.device(\"mps\")\n",
    "    model = model.to(device)\n",
    "    model.eval()\n",
    "    \n",
    "    val_loss = 0\n",
    "    predicted = []\n",
    "    true = []\n",
    "    true_original_space = []\n",
    "    \n",
    "    eval_loss = 0\n",
    "    count = 0\n",
    "    for data, target, true_scaled in dataloader:\n",
    "        data = data.float()\n",
    "        data = data.to(device)\n",
    "        target= target.float()\n",
    "        target = target.to(device)\n",
    "        \n",
    "        outputs = model(data)\n",
    "        outputs= outputs.view(-1,)\n",
    "        \n",
    "        loss = criterion(target, outputs)\n",
    "        \n",
    "        eval_loss += loss.item()\n",
    "        \n",
    "        predicted += outputs.detach().cpu().numpy().tolist()\n",
    "        true += target.detach().cpu().numpy().tolist()\n",
    "        true_original_space += true_scaled.numpy().tolist()\n",
    "\n",
    "        count+=1\n",
    "\n",
    "    eval_loss = eval_loss / count    \n",
    "    predicted = np.array(predicted)\n",
    "    true = np.array(true)\n",
    "    \n",
    "    pcc = calculate_perf_measure(true, predicted)\n",
    "    \n",
    "    return eval_loss, pcc, np.array(true_original_space), predicted"
   ]
  },
  {
   "cell_type": "code",
   "execution_count": 16,
   "metadata": {
    "id": "y_bqpqrSQG9L"
   },
   "outputs": [],
   "source": [
    "def train_model(tr_dataset, validation_dataset, num_epoch=3000, reduce_dim=256, batch_size=16):\n",
    "    num_env = 81\n",
    "    num_geno=tr_dataset.data.shape[1] \n",
    "    # num_features = tr_dataset.data.shape[1]\n",
    "    \n",
    "    # device = 'cuda' if torch.cuda.is_available() else 'cpu'\n",
    "    device = torch.device(\"mps\")\n",
    "    print('Model is traning on: ', device)\n",
    "    \n",
    "    model = FCModel(num_env, num_geno, reduce_dim)\n",
    "    \n",
    "    criterion = nn.MSELoss().to(device)\n",
    "    optimizer = torch.optim.Adam(model.parameters(), lr=1e-4)\n",
    "    \n",
    "    tr_loader = DataLoader(dataset=tr_dataset, batch_size=batch_size)\n",
    "    val_loader = DataLoader(dataset=validation_dataset, batch_size=batch_size)\n",
    "    \n",
    "    best_val_loss = np.inf\n",
    "    best_model = None\n",
    "    best_pcc = np.NINF\n",
    "    best_pcc_model = None\n",
    "    no_improve = 0\n",
    "    i = 0\n",
    "    best_epoch = 0\n",
    "    is_loss_improved = False\n",
    "    is_pcc_improved = False\n",
    "    \n",
    "    tr_losses = []\n",
    "    val_losses = []\n",
    "    tr_pccs = []\n",
    "    val_pccs = []\n",
    "    while True:\n",
    "        tr_loss, tr_pcc, model = train(tr_loader, model, criterion, optimizer)\n",
    "        tr_losses.append(tr_loss)\n",
    "        tr_pccs.append(tr_pcc)\n",
    "        \n",
    "        val_loss, val_pcc, true_original_space, predicted = evaluate(val_loader, model, criterion)\n",
    "        val_losses.append(val_loss)\n",
    "        val_pccs.append(val_pcc)\n",
    "        \n",
    "        # if val_loss < best_val_loss:\n",
    "        #     best_val_loss = val_loss\n",
    "        #     best_model = copy.deepcopy(model)\n",
    "        #     best_epoch = i\n",
    "        #     no_improve = 0\n",
    "        #     is_loss_improved = True\n",
    "        # else:\n",
    "        #     is_loss_improved = False\n",
    "            \n",
    "        if best_pcc < val_pcc:\n",
    "            best_pcc_model = copy.deepcopy(model)\n",
    "            best_model = best_pcc_model\n",
    "            best_pcc = val_pcc\n",
    "            is_pcc_improved = True\n",
    "            best_epoch = i\n",
    "            no_improve = 0\n",
    "            is_loss_improved = True\n",
    "            best_val_loss = val_loss\n",
    "        else:\n",
    "            is_pcc_improved = False\n",
    "            \n",
    "        if is_pcc_improved == False:\n",
    "            no_improve += 1\n",
    "            \n",
    "        \n",
    "            \n",
    "        \n",
    "            \n",
    "        print(\"Current epoch: {} Best epoch {}\".format(i, best_epoch))\n",
    "        print(\"Training Loss: {}, training PCC: {}\".format(tr_loss, tr_pcc))\n",
    "        print(\"Validation Loss: {}, validation PCC: {}\".format(val_loss, val_pcc))\n",
    "        print()\n",
    "\n",
    "        i +=1\n",
    "        \n",
    "        if i % 15 == 0:\n",
    "            print('\\nSaving model: ')\n",
    "            torch.save(best_pcc_model.state_dict(), '../processed_data/fc_model_env_middle_v2.pt')\n",
    "            torch.save(best_pcc_model.state_dict(), '../processed_data/fc_model_env_pcc_middle_v2.pt')\n",
    "        \n",
    "        if no_improve == 20:\n",
    "            break\n",
    "    best_model=best_pcc_model\n",
    "    \n",
    "    return best_model, best_pcc_model, tr_losses, tr_pccs, val_losses, val_pccs"
   ]
  },
  {
   "cell_type": "code",
   "execution_count": 17,
   "metadata": {
    "id": "5SoQMAWTubuh"
   },
   "outputs": [],
   "source": [
    "def calculate_pcc_by_env():\n",
    "  test_data = pd.read_csv()\n",
    "  test_dataset = WheatDataset(geno_test_file, pheno_test_file) "
   ]
  },
  {
   "cell_type": "code",
   "execution_count": 18,
   "metadata": {
    "colab": {
     "base_uri": "https://localhost:8080/"
    },
    "id": "u_Kpo2_NQG9M",
    "outputId": "3421cc8b-5358-49d5-f492-7d27f09eb613"
   },
   "outputs": [
    {
     "name": "stdout",
     "output_type": "stream",
     "text": [
      "\n",
      "Sart reading dataset\n",
      "number of markers:  2081\n",
      "4.806148496017522\n",
      "10.0\n",
      "number of markers:  2081\n",
      "4.814702491839821\n",
      "10.0\n",
      "number of markers:  2081\n",
      "4.881761611338767\n",
      "10.0\n",
      "number of markers:  2081\n",
      "4.7388902280622265\n",
      "10.0\n"
     ]
    }
   ],
   "source": [
    "print('\\nSart reading dataset')\n",
    "tr_dataset = WheatDataset(geno_training_file, pheno_training_file) \n",
    "test_dataset = WheatDataset(geno_test_file, pheno_test_file, tr_dataset.scaler, tr_dataset.output_scaler) \n",
    "test_dataset_unique_env = WheatDataset(geno_test_file_unique_env, pheno_test_file_unique_env, tr_dataset.scaler, tr_dataset.output_scaler) \n",
    "validation_dataset = WheatDataset(geno_val_file, pheno_val_file, tr_dataset.scaler, tr_dataset.output_scaler) "
   ]
  },
  {
   "cell_type": "code",
   "execution_count": 19,
   "metadata": {
    "colab": {
     "base_uri": "https://localhost:8080/"
    },
    "id": "j2rhf0MMvo-a",
    "outputId": "4b27dde4-091e-4e69-8094-de8941bfa1f7"
   },
   "outputs": [
    {
     "data": {
      "text/plain": [
       "(61514, 2081)"
      ]
     },
     "execution_count": 19,
     "metadata": {},
     "output_type": "execute_result"
    }
   ],
   "source": [
    "tr_dataset.data.shape"
   ]
  },
  {
   "cell_type": "code",
   "execution_count": 20,
   "metadata": {
    "colab": {
     "base_uri": "https://localhost:8080/"
    },
    "id": "qavUtWKFQG9M",
    "outputId": "056e611b-db3a-40b6-fcc6-7d1f77e6f104"
   },
   "outputs": [
    {
     "name": "stdout",
     "output_type": "stream",
     "text": [
      "\n",
      "Starting training: \n",
      "Model is traning on:  mps\n",
      "Current epoch: 0 Best epoch 0\n",
      "Training Loss: 0.04689235423290773, training PCC: 0.1707624689073066\n",
      "Validation Loss: 0.043637644488773594, validation PCC: 0.28194226582583914\n",
      "\n",
      "Current epoch: 1 Best epoch 1\n",
      "Training Loss: 0.04272736123861772, training PCC: 0.3080836457463151\n",
      "Validation Loss: 0.042456439540134686, validation PCC: 0.31678265404885836\n",
      "\n",
      "Current epoch: 2 Best epoch 2\n",
      "Training Loss: 0.0421885641740941, training PCC: 0.32616888542440003\n",
      "Validation Loss: 0.04235730588306926, validation PCC: 0.3297507662372323\n",
      "\n",
      "Current epoch: 3 Best epoch 3\n",
      "Training Loss: 0.04148679233752501, training PCC: 0.34727455355425574\n",
      "Validation Loss: 0.04324877076927637, validation PCC: 0.3332255659129009\n",
      "\n",
      "Current epoch: 4 Best epoch 4\n",
      "Training Loss: 0.04099904221778817, training PCC: 0.36180619782584933\n",
      "Validation Loss: 0.04228981217164869, validation PCC: 0.33349411887367936\n",
      "\n",
      "Current epoch: 5 Best epoch 5\n",
      "Training Loss: 0.04083866418461294, training PCC: 0.3669046614869492\n",
      "Validation Loss: 0.04299648739182191, validation PCC: 0.3423111161163336\n",
      "\n",
      "Current epoch: 6 Best epoch 6\n",
      "Training Loss: 0.040752349178386146, training PCC: 0.36899711866569423\n",
      "Validation Loss: 0.04222317857161767, validation PCC: 0.342348494094711\n",
      "\n",
      "Current epoch: 7 Best epoch 6\n",
      "Training Loss: 0.04069053227558205, training PCC: 0.37056045997783216\n",
      "Validation Loss: 0.04144338521611139, validation PCC: 0.3405225845809397\n",
      "\n",
      "Current epoch: 8 Best epoch 8\n",
      "Training Loss: 0.03993951737117835, training PCC: 0.3915379952778145\n",
      "Validation Loss: 0.04215210779553893, validation PCC: 0.3454974543079948\n",
      "\n",
      "Current epoch: 9 Best epoch 9\n",
      "Training Loss: 0.03954023680709721, training PCC: 0.4021027271311606\n",
      "Validation Loss: 0.0413036024402504, validation PCC: 0.3475055476698801\n",
      "\n",
      "Current epoch: 10 Best epoch 10\n",
      "Training Loss: 0.03878995910937474, training PCC: 0.4212753606001727\n",
      "Validation Loss: 0.0413592469076373, validation PCC: 0.35494695531683784\n",
      "\n",
      "Current epoch: 11 Best epoch 10\n",
      "Training Loss: 0.03767325129774312, training PCC: 0.44833358598072237\n",
      "Validation Loss: 0.04274227769474763, validation PCC: 0.3407866114969337\n",
      "\n",
      "Current epoch: 12 Best epoch 10\n",
      "Training Loss: 0.03795114092058318, training PCC: 0.44185797819764344\n",
      "Validation Loss: 0.0446189222049851, validation PCC: 0.3405194497926024\n",
      "\n",
      "Current epoch: 13 Best epoch 13\n",
      "Training Loss: 0.03869840568788311, training PCC: 0.4236306618603122\n",
      "Validation Loss: 0.041410323738448884, validation PCC: 0.3700154914635773\n",
      "\n",
      "Current epoch: 14 Best epoch 13\n",
      "Training Loss: 0.03826702094884694, training PCC: 0.4342416398741502\n",
      "Validation Loss: 0.04191715682646787, validation PCC: 0.3659260267650258\n",
      "\n",
      "\n",
      "Saving model: \n",
      "Current epoch: 15 Best epoch 13\n",
      "Training Loss: 0.03912445626186745, training PCC: 0.4128567864007429\n",
      "Validation Loss: 0.04197570000037637, validation PCC: 0.3556462729493327\n",
      "\n",
      "Current epoch: 16 Best epoch 13\n",
      "Training Loss: 0.03814590041595366, training PCC: 0.43698607220014163\n",
      "Validation Loss: 0.044097126036279466, validation PCC: 0.3432842541840384\n",
      "\n",
      "Current epoch: 17 Best epoch 13\n",
      "Training Loss: 0.03934305180357905, training PCC: 0.407181788779009\n",
      "Validation Loss: 0.04514934347587169, validation PCC: 0.3477467396800406\n",
      "\n",
      "Current epoch: 18 Best epoch 13\n",
      "Training Loss: 0.03995787489553236, training PCC: 0.3908812135307864\n",
      "Validation Loss: 0.04532201570927063, validation PCC: 0.34917355718439846\n",
      "\n",
      "Current epoch: 19 Best epoch 13\n",
      "Training Loss: 0.03951306518054956, training PCC: 0.4031529059995736\n",
      "Validation Loss: 0.044075409973287856, validation PCC: 0.35328574455929246\n",
      "\n",
      "Current epoch: 20 Best epoch 13\n",
      "Training Loss: 0.03938239010480734, training PCC: 0.4062659171766883\n",
      "Validation Loss: 0.0436237832326765, validation PCC: 0.3523546178985563\n",
      "\n",
      "Current epoch: 21 Best epoch 13\n",
      "Training Loss: 0.03932786265604988, training PCC: 0.4080093774794631\n",
      "Validation Loss: 0.04313177765061745, validation PCC: 0.35911753495368287\n",
      "\n",
      "Current epoch: 22 Best epoch 13\n",
      "Training Loss: 0.0383953260676064, training PCC: 0.431485601122232\n",
      "Validation Loss: 0.0430641221044036, validation PCC: 0.358381169218002\n",
      "\n",
      "Current epoch: 23 Best epoch 13\n",
      "Training Loss: 0.0378807337549002, training PCC: 0.4434907845082402\n",
      "Validation Loss: 0.043755614979332585, validation PCC: 0.36954150963867366\n",
      "\n",
      "Current epoch: 24 Best epoch 13\n",
      "Training Loss: 0.03791942118169457, training PCC: 0.4430440219135679\n",
      "Validation Loss: 0.04260004321490064, validation PCC: 0.35824425678023725\n",
      "\n",
      "Current epoch: 25 Best epoch 25\n",
      "Training Loss: 0.038090629271752434, training PCC: 0.43891502546895483\n",
      "Validation Loss: 0.04086914913718066, validation PCC: 0.38489350212794066\n",
      "\n",
      "Current epoch: 26 Best epoch 25\n",
      "Training Loss: 0.03951122990195599, training PCC: 0.4034420117233305\n",
      "Validation Loss: 0.0414630120480164, validation PCC: 0.36853840318550196\n",
      "\n",
      "Current epoch: 27 Best epoch 25\n",
      "Training Loss: 0.03838833845888503, training PCC: 0.43162533693790955\n",
      "Validation Loss: 0.042457033767004236, validation PCC: 0.35869651290595084\n",
      "\n",
      "Current epoch: 28 Best epoch 25\n",
      "Training Loss: 0.038320239923754995, training PCC: 0.4333095131241827\n",
      "Validation Loss: 0.04203997461954293, validation PCC: 0.3612169174267125\n",
      "\n",
      "Current epoch: 29 Best epoch 25\n",
      "Training Loss: 0.038550145828248374, training PCC: 0.42783080186077205\n",
      "Validation Loss: 0.041563333577417226, validation PCC: 0.36049135409545185\n",
      "\n",
      "\n",
      "Saving model: \n",
      "Current epoch: 30 Best epoch 25\n",
      "Training Loss: 0.03864920747044289, training PCC: 0.4250743537315138\n",
      "Validation Loss: 0.042037881092529074, validation PCC: 0.3719721451511342\n",
      "\n",
      "Current epoch: 31 Best epoch 25\n",
      "Training Loss: 0.03829681665952203, training PCC: 0.43487030814714334\n",
      "Validation Loss: 0.040714405057144305, validation PCC: 0.3842439029489206\n",
      "\n",
      "Current epoch: 32 Best epoch 25\n",
      "Training Loss: 0.03840818748230467, training PCC: 0.4316314432081026\n",
      "Validation Loss: 0.04107350727941604, validation PCC: 0.38111323625919136\n",
      "\n",
      "Current epoch: 33 Best epoch 33\n",
      "Training Loss: 0.037754559174485953, training PCC: 0.44727043536427513\n",
      "Validation Loss: 0.04038880198031147, validation PCC: 0.3941160371246194\n",
      "\n",
      "Current epoch: 34 Best epoch 33\n",
      "Training Loss: 0.03736194531073147, training PCC: 0.45690987195359656\n",
      "Validation Loss: 0.0419490986713612, validation PCC: 0.39381522390931295\n",
      "\n",
      "Current epoch: 35 Best epoch 33\n",
      "Training Loss: 0.036777409837192035, training PCC: 0.4695223450890088\n",
      "Validation Loss: 0.04129709689904844, validation PCC: 0.37962696057207496\n",
      "\n",
      "Current epoch: 36 Best epoch 33\n",
      "Training Loss: 0.03743428379159785, training PCC: 0.4544010021936535\n",
      "Validation Loss: 0.04254989793276511, validation PCC: 0.37065606220253133\n",
      "\n",
      "Current epoch: 37 Best epoch 33\n",
      "Training Loss: 0.03765506673267347, training PCC: 0.4492488682441651\n",
      "Validation Loss: 0.042998838491436375, validation PCC: 0.36150409395964217\n",
      "\n",
      "Current epoch: 38 Best epoch 33\n",
      "Training Loss: 0.03917459892341383, training PCC: 0.4116487689326491\n",
      "Validation Loss: 0.03952715949645277, validation PCC: 0.392889381096765\n",
      "\n",
      "Current epoch: 39 Best epoch 33\n",
      "Training Loss: 0.03809834232606118, training PCC: 0.43986536523877345\n",
      "Validation Loss: 0.04310028992507155, validation PCC: 0.3822407351792001\n",
      "\n",
      "Current epoch: 40 Best epoch 33\n",
      "Training Loss: 0.03739372641816271, training PCC: 0.45498914470894447\n",
      "Validation Loss: 0.040639911342218435, validation PCC: 0.37791492622677886\n",
      "\n",
      "Current epoch: 41 Best epoch 33\n",
      "Training Loss: 0.03713789584624374, training PCC: 0.4610863057761422\n",
      "Validation Loss: 0.04097979076508153, validation PCC: 0.39137831363587916\n",
      "\n",
      "Current epoch: 42 Best epoch 33\n",
      "Training Loss: 0.036804218807019555, training PCC: 0.46854525041536055\n",
      "Validation Loss: 0.041372935702173694, validation PCC: 0.38752200276880916\n",
      "\n",
      "Current epoch: 43 Best epoch 33\n",
      "Training Loss: 0.036431386823361264, training PCC: 0.4769727473849301\n",
      "Validation Loss: 0.04211115951224559, validation PCC: 0.3851293950858266\n",
      "\n",
      "Current epoch: 44 Best epoch 33\n",
      "Training Loss: 0.03631091282389314, training PCC: 0.4796784505010908\n",
      "Validation Loss: 0.04277832505718476, validation PCC: 0.3714164303952015\n",
      "\n",
      "\n",
      "Saving model: \n",
      "Current epoch: 45 Best epoch 33\n",
      "Training Loss: 0.03608115823995593, training PCC: 0.4846722963419605\n",
      "Validation Loss: 0.04178292663886368, validation PCC: 0.38171529475969673\n",
      "\n",
      "Current epoch: 46 Best epoch 33\n",
      "Training Loss: 0.035992521593219404, training PCC: 0.486696666272479\n",
      "Validation Loss: 0.04324108608756107, validation PCC: 0.3783592219417565\n",
      "\n",
      "Current epoch: 47 Best epoch 33\n",
      "Training Loss: 0.03576889662062381, training PCC: 0.4915245871664331\n",
      "Validation Loss: 0.0419866166836609, validation PCC: 0.37775629196906463\n",
      "\n",
      "Current epoch: 48 Best epoch 33\n",
      "Training Loss: 0.03581326682771132, training PCC: 0.4906190027368116\n",
      "Validation Loss: 0.041450894873783076, validation PCC: 0.37692616215249447\n",
      "\n",
      "Current epoch: 49 Best epoch 33\n",
      "Training Loss: 0.036129864543122614, training PCC: 0.4841323836586376\n",
      "Validation Loss: 0.04114464325884174, validation PCC: 0.37970001330931025\n",
      "\n",
      "Current epoch: 50 Best epoch 50\n",
      "Training Loss: 0.03678718889509705, training PCC: 0.46932507273399704\n",
      "Validation Loss: 0.03988171246096578, validation PCC: 0.3960344263415285\n",
      "\n",
      "Current epoch: 51 Best epoch 51\n",
      "Training Loss: 0.037588160958435396, training PCC: 0.4516486299734662\n",
      "Validation Loss: 0.03979378922524824, validation PCC: 0.4003147765338456\n",
      "\n",
      "Current epoch: 52 Best epoch 51\n",
      "Training Loss: 0.035791764352877245, training PCC: 0.4908241858382264\n",
      "Validation Loss: 0.040566982378418735, validation PCC: 0.39533816938127986\n",
      "\n",
      "Current epoch: 53 Best epoch 51\n",
      "Training Loss: 0.036126687141084995, training PCC: 0.4839644566934648\n",
      "Validation Loss: 0.041568253006290835, validation PCC: 0.3678365972466764\n",
      "\n",
      "Current epoch: 54 Best epoch 51\n",
      "Training Loss: 0.036928123031503744, training PCC: 0.46625635450774555\n",
      "Validation Loss: 0.04243883991215615, validation PCC: 0.37437057824193704\n",
      "\n",
      "Current epoch: 55 Best epoch 51\n",
      "Training Loss: 0.03960951863790005, training PCC: 0.40058732022448434\n",
      "Validation Loss: 0.041021849733987294, validation PCC: 0.3519749193630643\n",
      "\n",
      "Current epoch: 56 Best epoch 51\n",
      "Training Loss: 0.03863562383880672, training PCC: 0.427643685890254\n",
      "Validation Loss: 0.04076735733475299, validation PCC: 0.36310970013499905\n",
      "\n",
      "Current epoch: 57 Best epoch 51\n",
      "Training Loss: 0.039181951966849225, training PCC: 0.41313016387595425\n",
      "Validation Loss: 0.04110740721656408, validation PCC: 0.3474071194211135\n",
      "\n",
      "Current epoch: 58 Best epoch 51\n",
      "Training Loss: 0.03954611740630747, training PCC: 0.40177062586530105\n",
      "Validation Loss: 0.040736924006329105, validation PCC: 0.3706170230755786\n",
      "\n",
      "Current epoch: 59 Best epoch 51\n",
      "Training Loss: 0.037999068191294366, training PCC: 0.44339990144181696\n",
      "Validation Loss: 0.04044718783068864, validation PCC: 0.37961692896403615\n",
      "\n",
      "\n",
      "Saving model: \n",
      "Current epoch: 60 Best epoch 51\n",
      "Training Loss: 0.03757635358403477, training PCC: 0.4511106360816045\n",
      "Validation Loss: 0.04050439630629699, validation PCC: 0.383844477742285\n",
      "\n",
      "Current epoch: 61 Best epoch 51\n",
      "Training Loss: 0.038741334906843124, training PCC: 0.42251152620688404\n",
      "Validation Loss: 0.04100126230475531, validation PCC: 0.37477869164967476\n",
      "\n",
      "Current epoch: 62 Best epoch 51\n",
      "Training Loss: 0.038048454592287104, training PCC: 0.4426507222583489\n",
      "Validation Loss: 0.040733925298373136, validation PCC: 0.3862501290450611\n",
      "\n",
      "Current epoch: 63 Best epoch 51\n",
      "Training Loss: 0.03842059474316447, training PCC: 0.43045249742910263\n",
      "Validation Loss: 0.041291108322625905, validation PCC: 0.3941720512472756\n",
      "\n",
      "Current epoch: 64 Best epoch 51\n",
      "Training Loss: 0.03837083683449875, training PCC: 0.43175206428194035\n",
      "Validation Loss: 0.040900239171837105, validation PCC: 0.39037628260333435\n",
      "\n",
      "Current epoch: 65 Best epoch 51\n",
      "Training Loss: 0.03878231185804007, training PCC: 0.4220279742359223\n",
      "Validation Loss: 0.04048740771206128, validation PCC: 0.39280647293219806\n",
      "\n",
      "Current epoch: 66 Best epoch 51\n",
      "Training Loss: 0.038249808808947426, training PCC: 0.43487909493285165\n",
      "Validation Loss: 0.04054733056768861, validation PCC: 0.3940816855503666\n",
      "\n",
      "Current epoch: 67 Best epoch 51\n",
      "Training Loss: 0.03802796410834281, training PCC: 0.44025791838251765\n",
      "Validation Loss: 0.040540281349437775, validation PCC: 0.3956840344613289\n",
      "\n",
      "Current epoch: 68 Best epoch 51\n",
      "Training Loss: 0.03791843299519681, training PCC: 0.443028069698829\n",
      "Validation Loss: 0.040483093481360144, validation PCC: 0.3975033247245049\n",
      "\n",
      "Current epoch: 69 Best epoch 51\n",
      "Training Loss: 0.03812918499530353, training PCC: 0.4378456683913737\n",
      "Validation Loss: 0.0404690947878912, validation PCC: 0.3957280285429771\n",
      "\n",
      "Current epoch: 70 Best epoch 51\n",
      "Training Loss: 0.03923778115576153, training PCC: 0.4106452718332121\n",
      "Validation Loss: 0.04031869661429025, validation PCC: 0.3948208530455694\n",
      "\n",
      "Current epoch: 71 Best epoch 51\n",
      "Training Loss: 0.038700121287411376, training PCC: 0.4238145580461105\n",
      "Validation Loss: 0.04056656642714677, validation PCC: 0.39203955091331294\n",
      "\n"
     ]
    }
   ],
   "source": [
    "print('\\nStarting training: ')\n",
    "best_model, best_pcc_model, tr_losses, tr_pccs, val_losses, val_pccs = train_model(tr_dataset, validation_dataset, reduce_dim=770, batch_size=64)"
   ]
  },
  {
   "cell_type": "code",
   "execution_count": 21,
   "metadata": {
    "id": "je0HHDo6QG9N"
   },
   "outputs": [],
   "source": [
    "model = best_model\n",
    "torch.save(model.state_dict(), model_path)"
   ]
  },
  {
   "cell_type": "code",
   "execution_count": 22,
   "metadata": {
    "id": "djHQGuCkDqFi"
   },
   "outputs": [],
   "source": [
    "# pcc_model = best_pcc_model\n",
    "# torch.save(pcc_model.state_dict(), pcc_model_path)"
   ]
  },
  {
   "cell_type": "code",
   "execution_count": 23,
   "metadata": {},
   "outputs": [],
   "source": [
    "with open(target_scaler_path, 'wb') as outfile:\n",
    "    pickle.dump(tr_dataset.output_scaler, outfile)"
   ]
  },
  {
   "cell_type": "code",
   "execution_count": 24,
   "metadata": {},
   "outputs": [],
   "source": [
    "with open(env_scaler_path, 'wb') as outfile:\n",
    "    pickle.dump(tr_dataset.scaler, outfile)"
   ]
  },
  {
   "cell_type": "code",
   "execution_count": 25,
   "metadata": {},
   "outputs": [],
   "source": [
    "df = pd.DataFrame({\n",
    "    'epochs': list(range(len(tr_losses))) * 2,\n",
    "    'loss': tr_losses + val_losses,\n",
    "    'type': ['training'] * len(tr_losses) + ['validation'] * len(val_losses),\n",
    "    'pcc': np.array(tr_pccs + val_pccs)\n",
    "})"
   ]
  },
  {
   "cell_type": "code",
   "execution_count": 26,
   "metadata": {},
   "outputs": [],
   "source": [
    "df.to_pickle(training_output_path)"
   ]
  },
  {
   "cell_type": "code",
   "execution_count": 27,
   "metadata": {},
   "outputs": [
    {
     "data": {
      "image/png": "[encoded data removed]",
      "text/plain": [
       "<Figure size 1200x800 with 1 Axes>"
      ]
     },
     "metadata": {},
     "output_type": "display_data"
    }
   ],
   "source": [
    "import seaborn as sns\n",
    "import matplotlib.pyplot as plt\n",
    "\n",
    "plt.figure(figsize = (12,8))\n",
    "ax = sns.lineplot(data=df, x=\"epochs\", y=\"loss\", hue=\"type\")\n",
    "ax.set_xlabel(\"Epochs\", fontsize = 14)\n",
    "ax.set_ylabel(\"Mean Square Error\", fontsize = 14)\n",
    "ax.legend(fontsize=14)\n",
    "fig = ax.get_figure()\n",
    "fig.savefig(figure_loss_path, dpi=256 )"
   ]
  },
  {
   "cell_type": "code",
   "execution_count": 42,
   "metadata": {},
   "outputs": [
    {
     "ename": "ValueError",
     "evalue": "Could not interpret value `epochs` for parameter `x`",
     "output_type": "error",
     "traceback": [
      "\u001b[0;31m---------------------------------------------------------------------------\u001b[0m",
      "\u001b[0;31mValueError\u001b[0m                                Traceback (most recent call last)",
      "\u001b[1;32m/Users/sheikhjubair/Documents/wheat_large/code/fc_training_global_marker_env_concatenated.ipynb Cell 28\u001b[0m in \u001b[0;36m<cell line: 2>\u001b[0;34m()\u001b[0m\n\u001b[1;32m      <a href='vscode-notebook-cell:/Users/sheikhjubair/Documents/wheat_large/code/fc_training_global_marker_env_concatenated.ipynb#Y125sZmlsZQ%3D%3D?line=0'>1</a>\u001b[0m plt\u001b[39m.\u001b[39mfigure(figsize \u001b[39m=\u001b[39m (\u001b[39m12\u001b[39m,\u001b[39m8\u001b[39m))\n\u001b[0;32m----> <a href='vscode-notebook-cell:/Users/sheikhjubair/Documents/wheat_large/code/fc_training_global_marker_env_concatenated.ipynb#Y125sZmlsZQ%3D%3D?line=1'>2</a>\u001b[0m ax \u001b[39m=\u001b[39m sns\u001b[39m.\u001b[39;49mlineplot(data\u001b[39m=\u001b[39;49mdf, x\u001b[39m=\u001b[39;49m\u001b[39m\"\u001b[39;49m\u001b[39mepochs\u001b[39;49m\u001b[39m\"\u001b[39;49m, y\u001b[39m=\u001b[39;49m\u001b[39m\"\u001b[39;49m\u001b[39mpcc\u001b[39;49m\u001b[39m\"\u001b[39;49m, hue\u001b[39m=\u001b[39;49m\u001b[39m\"\u001b[39;49m\u001b[39mtype\u001b[39;49m\u001b[39m\"\u001b[39;49m)\n\u001b[1;32m      <a href='vscode-notebook-cell:/Users/sheikhjubair/Documents/wheat_large/code/fc_training_global_marker_env_concatenated.ipynb#Y125sZmlsZQ%3D%3D?line=2'>3</a>\u001b[0m fig \u001b[39m=\u001b[39m ax\u001b[39m.\u001b[39mget_figure()\n\u001b[1;32m      <a href='vscode-notebook-cell:/Users/sheikhjubair/Documents/wheat_large/code/fc_training_global_marker_env_concatenated.ipynb#Y125sZmlsZQ%3D%3D?line=3'>4</a>\u001b[0m ax\u001b[39m.\u001b[39mset_xlabel(\u001b[39m\"\u001b[39m\u001b[39m# of Epochs\u001b[39m\u001b[39m\"\u001b[39m, fontsize \u001b[39m=\u001b[39m \u001b[39m14\u001b[39m)\n",
      "File \u001b[0;32m~/anaconda3/envs/blackice/lib/python3.9/site-packages/seaborn/_decorators.py:46\u001b[0m, in \u001b[0;36m_deprecate_positional_args.<locals>.inner_f\u001b[0;34m(*args, **kwargs)\u001b[0m\n\u001b[1;32m     36\u001b[0m     warnings\u001b[39m.\u001b[39mwarn(\n\u001b[1;32m     37\u001b[0m         \u001b[39m\"\u001b[39m\u001b[39mPass the following variable\u001b[39m\u001b[39m{}\u001b[39;00m\u001b[39m as \u001b[39m\u001b[39m{}\u001b[39;00m\u001b[39mkeyword arg\u001b[39m\u001b[39m{}\u001b[39;00m\u001b[39m: \u001b[39m\u001b[39m{}\u001b[39;00m\u001b[39m. \u001b[39m\u001b[39m\"\u001b[39m\n\u001b[1;32m     38\u001b[0m         \u001b[39m\"\u001b[39m\u001b[39mFrom version 0.12, the only valid positional argument \u001b[39m\u001b[39m\"\u001b[39m\n\u001b[0;32m   (...)\u001b[0m\n\u001b[1;32m     43\u001b[0m         \u001b[39mFutureWarning\u001b[39;00m\n\u001b[1;32m     44\u001b[0m     )\n\u001b[1;32m     45\u001b[0m kwargs\u001b[39m.\u001b[39mupdate({k: arg \u001b[39mfor\u001b[39;00m k, arg \u001b[39min\u001b[39;00m \u001b[39mzip\u001b[39m(sig\u001b[39m.\u001b[39mparameters, args)})\n\u001b[0;32m---> 46\u001b[0m \u001b[39mreturn\u001b[39;00m f(\u001b[39m*\u001b[39;49m\u001b[39m*\u001b[39;49mkwargs)\n",
      "File \u001b[0;32m~/anaconda3/envs/blackice/lib/python3.9/site-packages/seaborn/relational.py:692\u001b[0m, in \u001b[0;36mlineplot\u001b[0;34m(x, y, hue, size, style, data, palette, hue_order, hue_norm, sizes, size_order, size_norm, dashes, markers, style_order, units, estimator, ci, n_boot, seed, sort, err_style, err_kws, legend, ax, **kwargs)\u001b[0m\n\u001b[1;32m    677\u001b[0m \u001b[39m@_deprecate_positional_args\u001b[39m\n\u001b[1;32m    678\u001b[0m \u001b[39mdef\u001b[39;00m \u001b[39mlineplot\u001b[39m(\n\u001b[1;32m    679\u001b[0m     \u001b[39m*\u001b[39m,\n\u001b[0;32m   (...)\u001b[0m\n\u001b[1;32m    688\u001b[0m     legend\u001b[39m=\u001b[39m\u001b[39m\"\u001b[39m\u001b[39mauto\u001b[39m\u001b[39m\"\u001b[39m, ax\u001b[39m=\u001b[39m\u001b[39mNone\u001b[39;00m, \u001b[39m*\u001b[39m\u001b[39m*\u001b[39mkwargs\n\u001b[1;32m    689\u001b[0m ):\n\u001b[1;32m    691\u001b[0m     variables \u001b[39m=\u001b[39m _LinePlotter\u001b[39m.\u001b[39mget_semantics(\u001b[39mlocals\u001b[39m())\n\u001b[0;32m--> 692\u001b[0m     p \u001b[39m=\u001b[39m _LinePlotter(\n\u001b[1;32m    693\u001b[0m         data\u001b[39m=\u001b[39;49mdata, variables\u001b[39m=\u001b[39;49mvariables,\n\u001b[1;32m    694\u001b[0m         estimator\u001b[39m=\u001b[39;49mestimator, ci\u001b[39m=\u001b[39;49mci, n_boot\u001b[39m=\u001b[39;49mn_boot, seed\u001b[39m=\u001b[39;49mseed,\n\u001b[1;32m    695\u001b[0m         sort\u001b[39m=\u001b[39;49msort, err_style\u001b[39m=\u001b[39;49merr_style, err_kws\u001b[39m=\u001b[39;49merr_kws, legend\u001b[39m=\u001b[39;49mlegend,\n\u001b[1;32m    696\u001b[0m     )\n\u001b[1;32m    698\u001b[0m     p\u001b[39m.\u001b[39mmap_hue(palette\u001b[39m=\u001b[39mpalette, order\u001b[39m=\u001b[39mhue_order, norm\u001b[39m=\u001b[39mhue_norm)\n\u001b[1;32m    699\u001b[0m     p\u001b[39m.\u001b[39mmap_size(sizes\u001b[39m=\u001b[39msizes, order\u001b[39m=\u001b[39msize_order, norm\u001b[39m=\u001b[39msize_norm)\n",
      "File \u001b[0;32m~/anaconda3/envs/blackice/lib/python3.9/site-packages/seaborn/relational.py:367\u001b[0m, in \u001b[0;36m_LinePlotter.__init__\u001b[0;34m(self, data, variables, estimator, ci, n_boot, seed, sort, err_style, err_kws, legend)\u001b[0m\n\u001b[1;32m    353\u001b[0m \u001b[39mdef\u001b[39;00m \u001b[39m__init__\u001b[39m(\n\u001b[1;32m    354\u001b[0m     \u001b[39mself\u001b[39m, \u001b[39m*\u001b[39m,\n\u001b[1;32m    355\u001b[0m     data\u001b[39m=\u001b[39m\u001b[39mNone\u001b[39;00m, variables\u001b[39m=\u001b[39m{},\n\u001b[0;32m   (...)\u001b[0m\n\u001b[1;32m    361\u001b[0m     \u001b[39m# the kind of plot to draw, but for the time being we need to set\u001b[39;00m\n\u001b[1;32m    362\u001b[0m     \u001b[39m# this information so the SizeMapping can use it\u001b[39;00m\n\u001b[1;32m    363\u001b[0m     \u001b[39mself\u001b[39m\u001b[39m.\u001b[39m_default_size_range \u001b[39m=\u001b[39m (\n\u001b[1;32m    364\u001b[0m         np\u001b[39m.\u001b[39mr_[\u001b[39m.5\u001b[39m, \u001b[39m2\u001b[39m] \u001b[39m*\u001b[39m mpl\u001b[39m.\u001b[39mrcParams[\u001b[39m\"\u001b[39m\u001b[39mlines.linewidth\u001b[39m\u001b[39m\"\u001b[39m]\n\u001b[1;32m    365\u001b[0m     )\n\u001b[0;32m--> 367\u001b[0m     \u001b[39msuper\u001b[39;49m()\u001b[39m.\u001b[39;49m\u001b[39m__init__\u001b[39;49m(data\u001b[39m=\u001b[39;49mdata, variables\u001b[39m=\u001b[39;49mvariables)\n\u001b[1;32m    369\u001b[0m     \u001b[39mself\u001b[39m\u001b[39m.\u001b[39mestimator \u001b[39m=\u001b[39m estimator\n\u001b[1;32m    370\u001b[0m     \u001b[39mself\u001b[39m\u001b[39m.\u001b[39mci \u001b[39m=\u001b[39m ci\n",
      "File \u001b[0;32m~/anaconda3/envs/blackice/lib/python3.9/site-packages/seaborn/_core.py:605\u001b[0m, in \u001b[0;36mVectorPlotter.__init__\u001b[0;34m(self, data, variables)\u001b[0m\n\u001b[1;32m    603\u001b[0m \u001b[39mdef\u001b[39;00m \u001b[39m__init__\u001b[39m(\u001b[39mself\u001b[39m, data\u001b[39m=\u001b[39m\u001b[39mNone\u001b[39;00m, variables\u001b[39m=\u001b[39m{}):\n\u001b[0;32m--> 605\u001b[0m     \u001b[39mself\u001b[39;49m\u001b[39m.\u001b[39;49massign_variables(data, variables)\n\u001b[1;32m    607\u001b[0m     \u001b[39mfor\u001b[39;00m var, \u001b[39mcls\u001b[39m \u001b[39min\u001b[39;00m \u001b[39mself\u001b[39m\u001b[39m.\u001b[39m_semantic_mappings\u001b[39m.\u001b[39mitems():\n\u001b[1;32m    608\u001b[0m \n\u001b[1;32m    609\u001b[0m         \u001b[39m# Create the mapping function\u001b[39;00m\n\u001b[1;32m    610\u001b[0m         map_func \u001b[39m=\u001b[39m partial(\u001b[39mcls\u001b[39m\u001b[39m.\u001b[39mmap, plotter\u001b[39m=\u001b[39m\u001b[39mself\u001b[39m)\n",
      "File \u001b[0;32m~/anaconda3/envs/blackice/lib/python3.9/site-packages/seaborn/_core.py:668\u001b[0m, in \u001b[0;36mVectorPlotter.assign_variables\u001b[0;34m(self, data, variables)\u001b[0m\n\u001b[1;32m    666\u001b[0m \u001b[39melse\u001b[39;00m:\n\u001b[1;32m    667\u001b[0m     \u001b[39mself\u001b[39m\u001b[39m.\u001b[39minput_format \u001b[39m=\u001b[39m \u001b[39m\"\u001b[39m\u001b[39mlong\u001b[39m\u001b[39m\"\u001b[39m\n\u001b[0;32m--> 668\u001b[0m     plot_data, variables \u001b[39m=\u001b[39m \u001b[39mself\u001b[39;49m\u001b[39m.\u001b[39;49m_assign_variables_longform(\n\u001b[1;32m    669\u001b[0m         data, \u001b[39m*\u001b[39;49m\u001b[39m*\u001b[39;49mvariables,\n\u001b[1;32m    670\u001b[0m     )\n\u001b[1;32m    672\u001b[0m \u001b[39mself\u001b[39m\u001b[39m.\u001b[39mplot_data \u001b[39m=\u001b[39m plot_data\n\u001b[1;32m    673\u001b[0m \u001b[39mself\u001b[39m\u001b[39m.\u001b[39mvariables \u001b[39m=\u001b[39m variables\n",
      "File \u001b[0;32m~/anaconda3/envs/blackice/lib/python3.9/site-packages/seaborn/_core.py:903\u001b[0m, in \u001b[0;36mVectorPlotter._assign_variables_longform\u001b[0;34m(self, data, **kwargs)\u001b[0m\n\u001b[1;32m    898\u001b[0m \u001b[39melif\u001b[39;00m \u001b[39misinstance\u001b[39m(val, (\u001b[39mstr\u001b[39m, \u001b[39mbytes\u001b[39m)):\n\u001b[1;32m    899\u001b[0m \n\u001b[1;32m    900\u001b[0m     \u001b[39m# This looks like a column name but we don't know what it means!\u001b[39;00m\n\u001b[1;32m    902\u001b[0m     err \u001b[39m=\u001b[39m \u001b[39mf\u001b[39m\u001b[39m\"\u001b[39m\u001b[39mCould not interpret value `\u001b[39m\u001b[39m{\u001b[39;00mval\u001b[39m}\u001b[39;00m\u001b[39m` for parameter `\u001b[39m\u001b[39m{\u001b[39;00mkey\u001b[39m}\u001b[39;00m\u001b[39m`\u001b[39m\u001b[39m\"\u001b[39m\n\u001b[0;32m--> 903\u001b[0m     \u001b[39mraise\u001b[39;00m \u001b[39mValueError\u001b[39;00m(err)\n\u001b[1;32m    905\u001b[0m \u001b[39melse\u001b[39;00m:\n\u001b[1;32m    906\u001b[0m \n\u001b[1;32m    907\u001b[0m     \u001b[39m# Otherwise, assume the value is itself data\u001b[39;00m\n\u001b[1;32m    908\u001b[0m \n\u001b[1;32m    909\u001b[0m     \u001b[39m# Raise when data object is present and a vector can't matched\u001b[39;00m\n\u001b[1;32m    910\u001b[0m     \u001b[39mif\u001b[39;00m \u001b[39misinstance\u001b[39m(data, pd\u001b[39m.\u001b[39mDataFrame) \u001b[39mand\u001b[39;00m \u001b[39mnot\u001b[39;00m \u001b[39misinstance\u001b[39m(val, pd\u001b[39m.\u001b[39mSeries):\n",
      "\u001b[0;31mValueError\u001b[0m: Could not interpret value `epochs` for parameter `x`"
     ]
    },
    {
     "data": {
      "text/plain": [
       "<Figure size 1200x800 with 0 Axes>"
      ]
     },
     "metadata": {},
     "output_type": "display_data"
    }
   ],
   "source": [
    "plt.figure(figsize = (12,8))\n",
    "ax = sns.lineplot(data=df, x=\"epochs\", y=\"pcc\", hue=\"type\")\n",
    "fig = ax.get_figure()\n",
    "ax.set_xlabel(\"Epochs\", fontsize = 14)\n",
    "ax.set_ylabel(\"Pearson Correlation Coefficient\", fontsize = 14)\n",
    "ax.legend(fontsize=14)\n",
    "fig.savefig(figure_pcc_path, dpi=256)"
   ]
  },
  {
   "cell_type": "code",
   "execution_count": 29,
   "metadata": {
    "id": "g2sBp8YnwKzg"
   },
   "outputs": [],
   "source": [
    "criterion = nn.MSELoss().to('cuda:0')\n",
    "test_loader = DataLoader(dataset=test_dataset, batch_size=64, shuffle=False)"
   ]
  },
  {
   "cell_type": "code",
   "execution_count": 30,
   "metadata": {
    "id": "XGERSYSsv6Fc"
   },
   "outputs": [
    {
     "name": "stdout",
     "output_type": "stream",
     "text": [
      "test loss:  0.0399400067000371\n",
      "test pcc:  0.40669295214077883\n"
     ]
    }
   ],
   "source": [
    "test_loss, test_pcc, true_original_space, predicted= evaluate(test_loader, model, criterion)\n",
    "print('test loss: ', test_loss)\n",
    "print('test pcc: ', test_pcc)"
   ]
  },
  {
   "cell_type": "code",
   "execution_count": 31,
   "metadata": {},
   "outputs": [
    {
     "data": {
      "text/plain": [
       "0.4066929519883151"
      ]
     },
     "execution_count": 31,
     "metadata": {},
     "output_type": "execute_result"
    }
   ],
   "source": [
    "rescaled_predicted = rescale_data(tr_dataset.output_scaler, predicted)\n",
    "calculate_perf_measure(true_original_space, rescaled_predicted)"
   ]
  },
  {
   "cell_type": "code",
   "execution_count": 32,
   "metadata": {},
   "outputs": [],
   "source": [
    "df = pd.DataFrame({\n",
    "    'True': true_original_space,\n",
    "    'Predicted': rescaled_predicted\n",
    "})"
   ]
  },
  {
   "cell_type": "code",
   "execution_count": 33,
   "metadata": {},
   "outputs": [],
   "source": [
    "df.to_pickle(test_output_all_env_path)"
   ]
  },
  {
   "cell_type": "code",
   "execution_count": 34,
   "metadata": {
    "id": "IvFATQi4DqFi"
   },
   "outputs": [],
   "source": [
    "# test_loss, test_pcc, true_original_space, predicted = evaluate(test_loader, pcc_model, criterion)\n",
    "# print('test loss: ', test_loss)\n",
    "# print('test pcc: ', test_pcc)"
   ]
  },
  {
   "cell_type": "code",
   "execution_count": 35,
   "metadata": {},
   "outputs": [],
   "source": [
    "criterion = nn.MSELoss().to('cuda:0')\n",
    "test_loader = DataLoader(dataset=test_dataset_unique_env, batch_size=64, shuffle=False)"
   ]
  },
  {
   "cell_type": "code",
   "execution_count": 36,
   "metadata": {},
   "outputs": [
    {
     "name": "stdout",
     "output_type": "stream",
     "text": [
      "test unique env loss:  0.03782663190116485\n",
      "test unique env pcc:  0.302156133903976\n"
     ]
    }
   ],
   "source": [
    "test_loss, test_pcc, true_original_space, predicted = evaluate(test_loader, model, criterion)\n",
    "print('test unique env loss: ', test_loss)\n",
    "print('test unique env pcc: ', test_pcc)"
   ]
  },
  {
   "cell_type": "code",
   "execution_count": 37,
   "metadata": {},
   "outputs": [],
   "source": [
    "# test_loss, test_pcc, true_original_space, predicted = evaluate(test_loader, pcc_model, criterion)\n",
    "# print('test unique env loss: ', test_loss)\n",
    "# print('test unique env pcc: ', test_pcc)"
   ]
  },
  {
   "cell_type": "code",
   "execution_count": null,
   "metadata": {},
   "outputs": [],
   "source": []
  },
  {
   "cell_type": "code",
   "execution_count": 38,
   "metadata": {},
   "outputs": [],
   "source": [
    "rescaled_predicted = rescale_data(tr_dataset.output_scaler, predicted)"
   ]
  },
  {
   "cell_type": "code",
   "execution_count": 39,
   "metadata": {},
   "outputs": [
    {
     "data": {
      "text/plain": [
       "0.3021561339671245"
      ]
     },
     "execution_count": 39,
     "metadata": {},
     "output_type": "execute_result"
    }
   ],
   "source": [
    "calculate_perf_measure(true_original_space, rescaled_predicted)"
   ]
  },
  {
   "cell_type": "code",
   "execution_count": 40,
   "metadata": {},
   "outputs": [],
   "source": [
    "df = pd.DataFrame({\n",
    "    'True': true_original_space,\n",
    "    'Predicted': rescaled_predicted\n",
    "})\n",
    "\n",
    "df.to_pickle(test_output_unique_env_path)"
   ]
  }
 ],
 "metadata": {
  "accelerator": "GPU",
  "colab": {
   "collapsed_sections": [],
   "machine_shape": "hm",
   "name": "ml_fc_env_in_middle (2).ipynb",
   "provenance": []
  },
  "kernelspec": {
   "display_name": "Python 3 (ipykernel)",
   "language": "python",
   "name": "python3"
  },
  "language_info": {
   "codemirror_mode": {
    "name": "ipython",
    "version": 3
   },
   "file_extension": ".py",
   "mimetype": "text/x-python",
   "name": "python",
   "nbconvert_exporter": "python",
   "pygments_lexer": "ipython3",
   "version": "3.9.13"
  },
  "vscode": {
   "interpreter": {
    "hash": "78e3909ed91b8b2e826dd7eddb74471018e84739ce54ef6d33c0fa3cbf16517c"
   }
  }
 },
 "nbformat": 4,
 "nbformat_minor": 4
}
