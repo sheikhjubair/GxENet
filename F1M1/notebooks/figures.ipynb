{
 "cells": [
  {
   "cell_type": "code",
   "execution_count": 1,
   "metadata": {},
   "outputs": [],
   "source": [
    "import seaborn as sns\n",
    "import pickle \n",
    "import matplotlib.pyplot as plt"
   ]
  },
  {
   "cell_type": "code",
   "execution_count": 2,
   "metadata": {},
   "outputs": [],
   "source": [
    "def plot_pcc_loss(data, x:str, y:str, xlabel:str, ylabel:str, figure_path:str, hue=None):\n",
    "    plt.figure(figsize = (12,8))\n",
    "    ax = sns.lineplot(data, x=x, y=pcc, hue=hue)\n",
    "    fig = ax.get_figure()\n",
    "    ax.set_xlabel(xlabel, fontsize = 14)\n",
    "    ax.set_ylabel(ylabel, fontsize = 14)\n",
    "    ax.legend(fontsize=14)\n",
    "    fig.savefig(figure_path, dpi=600)"
   ]
  },
  {
   "cell_type": "code",
   "execution_count": 3,
   "metadata": {},
   "outputs": [],
   "source": [
    "version = 'v1'\n",
    "training_outputs = '../outputs/training_outputs_global_local_features_{}.pkl'.format(version)\n",
    "training_loss_figure = '../figures/loss_pcc_global_local_features_' + version + '.jpeg'"
   ]
  },
  {
   "cell_type": "code",
   "execution_count": 4,
   "metadata": {},
   "outputs": [],
   "source": [
    "with open(training_outputs, 'rb') as tr_outputs:\n",
    "    loss_data = pickle.load(tr_outputs)"
   ]
  },
  {
   "cell_type": "code",
   "execution_count": 5,
   "metadata": {},
   "outputs": [
    {
     "data": {
      "text/html": [
       "<div>\n",
       "<style scoped>\n",
       "    .dataframe tbody tr th:only-of-type {\n",
       "        vertical-align: middle;\n",
       "    }\n",
       "\n",
       "    .dataframe tbody tr th {\n",
       "        vertical-align: top;\n",
       "    }\n",
       "\n",
       "    .dataframe thead th {\n",
       "        text-align: right;\n",
       "    }\n",
       "</style>\n",
       "<table border=\"1\" class=\"dataframe\">\n",
       "  <thead>\n",
       "    <tr style=\"text-align: right;\">\n",
       "      <th></th>\n",
       "      <th>epochs</th>\n",
       "      <th>loss</th>\n",
       "      <th>type</th>\n",
       "      <th>pcc</th>\n",
       "    </tr>\n",
       "  </thead>\n",
       "  <tbody>\n",
       "    <tr>\n",
       "      <th>0</th>\n",
       "      <td>0</td>\n",
       "      <td>0.047067</td>\n",
       "      <td>training</td>\n",
       "      <td>0.155833</td>\n",
       "    </tr>\n",
       "    <tr>\n",
       "      <th>1</th>\n",
       "      <td>1</td>\n",
       "      <td>0.044024</td>\n",
       "      <td>training</td>\n",
       "      <td>0.261233</td>\n",
       "    </tr>\n",
       "    <tr>\n",
       "      <th>2</th>\n",
       "      <td>2</td>\n",
       "      <td>0.042449</td>\n",
       "      <td>training</td>\n",
       "      <td>0.316791</td>\n",
       "    </tr>\n",
       "    <tr>\n",
       "      <th>3</th>\n",
       "      <td>3</td>\n",
       "      <td>0.042152</td>\n",
       "      <td>training</td>\n",
       "      <td>0.326826</td>\n",
       "    </tr>\n",
       "    <tr>\n",
       "      <th>4</th>\n",
       "      <td>4</td>\n",
       "      <td>0.042473</td>\n",
       "      <td>training</td>\n",
       "      <td>0.317598</td>\n",
       "    </tr>\n",
       "  </tbody>\n",
       "</table>\n",
       "</div>"
      ],
      "text/plain": [
       "   epochs      loss      type       pcc\n",
       "0       0  0.047067  training  0.155833\n",
       "1       1  0.044024  training  0.261233\n",
       "2       2  0.042449  training  0.316791\n",
       "3       3  0.042152  training  0.326826\n",
       "4       4  0.042473  training  0.317598"
      ]
     },
     "execution_count": 5,
     "metadata": {},
     "output_type": "execute_result"
    }
   ],
   "source": [
    "loss_data.head()"
   ]
  },
  {
   "cell_type": "code",
   "execution_count": 6,
   "metadata": {},
   "outputs": [
    {
     "ename": "NameError",
     "evalue": "name 'pcc' is not defined",
     "output_type": "error",
     "traceback": [
      "\u001b[0;31m---------------------------------------------------------------------------\u001b[0m",
      "\u001b[0;31mNameError\u001b[0m                                 Traceback (most recent call last)",
      "\u001b[1;32m/Users/sheikhjubair/Documents/wheat_m1/code/figures.ipynb Cell 6\u001b[0m in \u001b[0;36m<cell line: 1>\u001b[0;34m()\u001b[0m\n\u001b[0;32m----> <a href='vscode-notebook-cell:/Users/sheikhjubair/Documents/wheat_m1/code/figures.ipynb#W5sZmlsZQ%3D%3D?line=0'>1</a>\u001b[0m plot_pcc_loss(loss_data, \u001b[39m'\u001b[39;49m\u001b[39mepochs\u001b[39;49m\u001b[39m'\u001b[39;49m, \u001b[39m'\u001b[39;49m\u001b[39mpcc\u001b[39;49m\u001b[39m'\u001b[39;49m, \u001b[39m'\u001b[39;49m\u001b[39mEpochs\u001b[39;49m\u001b[39m'\u001b[39;49m, \u001b[39m'\u001b[39;49m\u001b[39mPCC\u001b[39;49m\u001b[39m'\u001b[39;49m, training_loss_figure, \u001b[39m'\u001b[39;49m\u001b[39mtype\u001b[39;49m\u001b[39m'\u001b[39;49m)\n",
      "\u001b[1;32m/Users/sheikhjubair/Documents/wheat_m1/code/figures.ipynb Cell 6\u001b[0m in \u001b[0;36mplot_pcc_loss\u001b[0;34m(data, x, y, xlabel, ylabel, figure_path, hue)\u001b[0m\n\u001b[1;32m      <a href='vscode-notebook-cell:/Users/sheikhjubair/Documents/wheat_m1/code/figures.ipynb#W5sZmlsZQ%3D%3D?line=0'>1</a>\u001b[0m \u001b[39mdef\u001b[39;00m \u001b[39mplot_pcc_loss\u001b[39m(data, x:\u001b[39mstr\u001b[39m, y:\u001b[39mstr\u001b[39m, xlabel:\u001b[39mstr\u001b[39m, ylabel:\u001b[39mstr\u001b[39m, figure_path:\u001b[39mstr\u001b[39m, hue\u001b[39m=\u001b[39m\u001b[39mNone\u001b[39;00m):\n\u001b[1;32m      <a href='vscode-notebook-cell:/Users/sheikhjubair/Documents/wheat_m1/code/figures.ipynb#W5sZmlsZQ%3D%3D?line=1'>2</a>\u001b[0m     plt\u001b[39m.\u001b[39mfigure(figsize \u001b[39m=\u001b[39m (\u001b[39m12\u001b[39m,\u001b[39m8\u001b[39m))\n\u001b[0;32m----> <a href='vscode-notebook-cell:/Users/sheikhjubair/Documents/wheat_m1/code/figures.ipynb#W5sZmlsZQ%3D%3D?line=2'>3</a>\u001b[0m     ax \u001b[39m=\u001b[39m sns\u001b[39m.\u001b[39mlineplot(data, x\u001b[39m=\u001b[39mx, y\u001b[39m=\u001b[39mpcc, hue\u001b[39m=\u001b[39mhue)\n\u001b[1;32m      <a href='vscode-notebook-cell:/Users/sheikhjubair/Documents/wheat_m1/code/figures.ipynb#W5sZmlsZQ%3D%3D?line=3'>4</a>\u001b[0m     fig \u001b[39m=\u001b[39m ax\u001b[39m.\u001b[39mget_figure()\n\u001b[1;32m      <a href='vscode-notebook-cell:/Users/sheikhjubair/Documents/wheat_m1/code/figures.ipynb#W5sZmlsZQ%3D%3D?line=4'>5</a>\u001b[0m     ax\u001b[39m.\u001b[39mset_xlabel(xlabel, fontsize \u001b[39m=\u001b[39m \u001b[39m14\u001b[39m)\n",
      "\u001b[0;31mNameError\u001b[0m: name 'pcc' is not defined"
     ]
    },
    {
     "data": {
      "text/plain": [
       "<Figure size 1200x800 with 0 Axes>"
      ]
     },
     "metadata": {},
     "output_type": "display_data"
    }
   ],
   "source": [
    "plot_pcc_loss(loss_data, 'epochs', 'pcc', 'Epochs', 'PCC', training_loss_figure, 'type')"
   ]
  }
 ],
 "metadata": {
  "kernelspec": {
   "display_name": "Python 3.9.13 ('blackice')",
   "language": "python",
   "name": "python3"
  },
  "language_info": {
   "codemirror_mode": {
    "name": "ipython",
    "version": 3
   },
   "file_extension": ".py",
   "mimetype": "text/x-python",
   "name": "python",
   "nbconvert_exporter": "python",
   "pygments_lexer": "ipython3",
   "version": "3.9.13"
  },
  "orig_nbformat": 4,
  "vscode": {
   "interpreter": {
    "hash": "78e3909ed91b8b2e826dd7eddb74471018e84739ce54ef6d33c0fa3cbf16517c"
   }
  }
 },
 "nbformat": 4,
 "nbformat_minor": 2
}
