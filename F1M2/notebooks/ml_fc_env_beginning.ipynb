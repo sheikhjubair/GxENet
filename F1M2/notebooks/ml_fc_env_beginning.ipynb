{
 "cells": [
  {
   "cell_type": "code",
   "execution_count": 101,
   "metadata": {
    "colab": {
     "base_uri": "https://localhost:8080/"
    },
    "id": "RWXlkcg6QG9C",
    "outputId": "41ae057d-eb20-4d5f-ee09-6a134cc0abe4"
   },
   "outputs": [],
   "source": [
    "# !pip install torch\n",
    "# !pip install pandas\n",
    "# !pip install scikit-learn\n"
   ]
  },
  {
   "cell_type": "code",
   "execution_count": 102,
   "metadata": {
    "colab": {
     "base_uri": "https://localhost:8080/"
    },
    "id": "BtqSHqf3QZZF",
    "outputId": "b1501297-c448-4543-9a04-9a872597c7a0"
   },
   "outputs": [],
   "source": [
    "# from google.colab import drive\n",
    "# drive.mount('/content/drive')"
   ]
  },
  {
   "cell_type": "code",
   "execution_count": 103,
   "metadata": {
    "colab": {
     "base_uri": "https://localhost:8080/"
    },
    "id": "6yxgW5f4QcXa",
    "outputId": "0108d51d-d1bf-4eb6-9e4e-fde3a21c7c10"
   },
   "outputs": [
    {
     "name": "stdout",
     "output_type": "stream",
     "text": [
      "[Errno 2] No such file or directory: '/content/drive/MyDrive/final_exp/code'\n",
      "/mnt/DATA/Home/amii.ca/jsheikh/personal_projects/phd_research/phd_research/notebooks\n"
     ]
    }
   ],
   "source": [
    "%cd /content/drive/MyDrive/final_exp/code"
   ]
  },
  {
   "cell_type": "code",
   "execution_count": 104,
   "metadata": {
    "id": "DgW42RA0QOoD"
   },
   "outputs": [],
   "source": [
    "import torch\n",
    "import torch.nn as nn\n",
    "from torch import optim\n",
    "import torch.nn.functional as F\n",
    "from torch.autograd import Variable\n",
    "from torch.utils.data import Dataset, DataLoader\n",
    "import pickle\n",
    "from scipy.stats import pearsonr\n",
    "import numpy as np\n",
    "import copy\n",
    "from sklearn.preprocessing import MinMaxScaler\n",
    "import pandas as pd\n",
    "import time"
   ]
  },
  {
   "cell_type": "code",
   "execution_count": 105,
   "metadata": {},
   "outputs": [],
   "source": [
    "version = 'v3'"
   ]
  },
  {
   "cell_type": "code",
   "execution_count": 106,
   "metadata": {
    "id": "6YQ2qJi7QG9H"
   },
   "outputs": [],
   "source": [
    "geno_training_file = '../processed_data/tr_geno_with_8_m_avg_{}.pkl'.format(version)\n",
    "pheno_training_file = '../processed_data/tr_pheno_with_8_m_avg_{}.pkl'.format(version)\n",
    "\n",
    "geno_test_file = '../processed_data/test_geno_with_8_m_avg_{}.pkl'.format(version)\n",
    "pheno_test_file = '../processed_data/test_pheno_with_8_m_avg_{}.pkl'.format(version)\n",
    "\n",
    "geno_test_file_unique_env = '../processed_data/test_geno_unique_env_with_8_m_avg_{}.pkl'.format(version)\n",
    "pheno_test_file_unique_env = '../processed_data/test_pheno_uniqeu_env_with_8_m_avg_{}.pkl'.format(version)\n",
    "\n",
    "geno_val_file = '../processed_data/val_geno_with_8_m_avg_{}.pkl'.format(version)\n",
    "pheno_val_file = '../processed_data/val_pheno_with_8_m_avg_{}.pkl'.format(version)"
   ]
  },
  {
   "cell_type": "code",
   "execution_count": 107,
   "metadata": {},
   "outputs": [],
   "source": [
    "model_path = '../outputs/fc_model_env_beginning_global_features_version_{}.pt'.format(version)\n",
    "pcc_model_path = '../outputs/fc_model_env_pcc_beginning_global_features_version_{}.pt'.format(version)\n",
    "target_scaler_path = '../outputs/target_scaler_global_features_{}.pkl'.format(version)\n",
    "env_scaler_path = '../outputs/env_scaler_global_features_{}.pkl'.format(version)\n",
    "training_output_path = '../outputs/env_beginning_training_outputs_global_features_' + version + '.pkl'\n",
    "figure_loss_path = '../figures/loss_env_beginning_global_features_' + version + '.jpeg'\n",
    "figure_pcc_path = '../figures/pcc_env_beginning_global_features_' + version + '.jpeg'\n",
    "test_output_all_env_path = '../outputs/predicted_all_env_beginning_global_features_' + version + '.pkl'\n",
    "test_output_unique_env_path = '../outputs/predicted_unique_env_beginning_global_features_' + version + '.pkl'"
   ]
  },
  {
   "cell_type": "code",
   "execution_count": 108,
   "metadata": {},
   "outputs": [],
   "source": [
    "def rescale_data(scaler, predicted):\n",
    "    rescaled = scaler.inverse_transform(predicted.reshape(-1,1))\n",
    "    \n",
    "    return rescaled.reshape(-1,)"
   ]
  },
  {
   "cell_type": "code",
   "execution_count": 109,
   "metadata": {
    "id": "TEeuCzMJQG9H"
   },
   "outputs": [],
   "source": [
    "### Transformer Model"
   ]
  },
  {
   "cell_type": "code",
   "execution_count": 110,
   "metadata": {
    "id": "lIfi1o7kQG9I"
   },
   "outputs": [],
   "source": [
    "class FCModel(nn.Module):\n",
    "    def __init__(self, num_env, num_geno, reduce_dim=2666, output_dim=1):\n",
    "        super(FCModel, self).__init__()\n",
    "\n",
    "        self.reduce_dim = reduce_dim\n",
    "        self.num_geno = num_geno\n",
    "        self.num_env = num_env\n",
    "\n",
    "        self.linears = nn.ModuleList([nn.Linear(num_env + 1, 54) for i in range(self.num_geno)])\n",
    "        self.relu1 = nn.ReLU()\n",
    "        # self.maxpool1 = nn.MaxPool1d(2)\n",
    "        \n",
    "        \n",
    "        self.fc2 = nn.Linear(54, 54)\n",
    "        self.relu2 = nn.ReLU()\n",
    "        # self.maxpool2 = nn.MaxPool1d(2)\n",
    "        \n",
    "        self.regress = nn.Linear(54, 1)\n",
    "       \n",
    "        \n",
    "    def forward(self, x):\n",
    "        batch_size = x.shape[0]\n",
    "        device = 'cuda' if torch.cuda.is_available() else 'cpu'\n",
    "        \n",
    "        env = x[:, self.num_geno:  ]\n",
    "        x = x[:, : self.num_geno]\n",
    "        \n",
    "        \n",
    "        d = torch.zeros([batch_size, self.num_geno, 54]).to(device)\n",
    "        \n",
    "        for i, layer in enumerate(self.linears):\n",
    "          geno = x[:, i]\n",
    "          geno = torch.unsqueeze(geno, 1)\n",
    "         \n",
    "          z = torch.cat((env, geno), dim=1)\n",
    "       \n",
    "          out = layer(z)\n",
    "          d[:, i, :] = out\n",
    "        x = self.relu1(d)    \n",
    "       \n",
    "        x = self.fc2(x)\n",
    "        x = self.relu2(x)\n",
    "        \n",
    "        x= torch.sum(x, dim=1)\n",
    "    \n",
    "        x = self.regress(x)\n",
    "        \n",
    "        return x"
   ]
  },
  {
   "cell_type": "code",
   "execution_count": 111,
   "metadata": {
    "id": "tXAPq2J1QG9I"
   },
   "outputs": [],
   "source": [
    "class WheatDataset(Dataset):\n",
    "    def __init__(self, geno_file, target_file, scaler=None, output_scaler=None):\n",
    "        self.scaler = scaler\n",
    "        self.output_scaler=output_scaler\n",
    "        with open(geno_file, 'rb') as pfile:\n",
    "            self.data = pickle.load(pfile)\n",
    "\n",
    "        with open(target_file, 'rb') as pfile:\n",
    "            self.target = pickle.load(pfile)\n",
    "        \n",
    "\n",
    "        ind = self.target <= 10\n",
    "        self.target = self.target[ind]\n",
    "        self.data = self.data[ind]\n",
    "        \n",
    "        #Remove this line to run with global + local marker set\n",
    "        # self.data = np.delete(self.data, np.arange(2000, 4052), axis=1)\n",
    "        \n",
    "        self.target_original_space = self.target\n",
    "        self.target_original_space = self.target_original_space.reshape(-1,)\n",
    "\n",
    "        self.target = self.target.reshape(-1, 1)\n",
    "\n",
    "        print('number of markers: ', self.data.shape[1])\n",
    "        print(np.average(self.target))\n",
    "        print(np.max(self.target))\n",
    "\n",
    "        if scaler == None:\n",
    "            self.scaler= MinMaxScaler()\n",
    "            self.data[:, -81:] = self.scaler.fit_transform(self.data[:, -81:])\n",
    "        else:\n",
    "            self.data[:, -81:] = self.scaler.transform(self.data[:, -81:])\n",
    "            \n",
    "        if self.output_scaler == None:\n",
    "            self.output_scaler = MinMaxScaler()\n",
    "            self.target = self.output_scaler.fit_transform(self.target)\n",
    "        else:\n",
    "            self.target = self.output_scaler.transform(self.target)\n",
    "\n",
    "        self.target = self.target.reshape(-1,)\n",
    "\n",
    "    def __len__(self):\n",
    "        return self.data.shape[0]\n",
    "    \n",
    "    \n",
    "    def __getitem__(self, ind):\n",
    "        return self.data[ind], self.target[ind], self.target_original_space[ind]"
   ]
  },
  {
   "cell_type": "code",
   "execution_count": 112,
   "metadata": {
    "id": "5Cyih565QG9J"
   },
   "outputs": [],
   "source": [
    "def calculate_perf_measure(true, predicted):\n",
    "    pcc, pval = pearsonr(true, predicted)\n",
    "    \n",
    "    return pcc"
   ]
  },
  {
   "cell_type": "code",
   "execution_count": 113,
   "metadata": {
    "id": "ByKNkszRE3Qr"
   },
   "outputs": [],
   "source": [
    "def pcc_loss(true, predicted):\n",
    "  x = predicted\n",
    "  y = true\n",
    "\n",
    "#   vx = x - torch.mean(x)\n",
    "#   vy = y - torch.mean(y)\n",
    "\n",
    "#   cost = torch.sum(vx * vy) / (torch.sqrt(torch.sum(vx ** 2)) * torch.sqrt(torch.sum(vy ** 2)))\n",
    "  \n",
    "  x = torch.cat((true, predicted),0)\n",
    "  cost = torch.corrcoef(x)\n",
    "  cost = cost[0,1]\n",
    "  #v2 code added here\n",
    "  mse_loss = torch.mean((predicted -true)**2)\n",
    "\n",
    "  total_cost = (1 - cost) + mse_loss\n",
    "\n",
    "  return total_cost"
   ]
  },
  {
   "cell_type": "code",
   "execution_count": 114,
   "metadata": {
    "id": "7RsdyzwNQG9K"
   },
   "outputs": [],
   "source": [
    "def train(dataloader, model, criterion, optimizer):\n",
    "    start_time = time.perf_counter()\n",
    "    device = 'cuda' if torch.cuda.is_available() else 'cpu'\n",
    "    model = model.to(device)\n",
    "    model.train()\n",
    "    \n",
    "    tr_running_loss = 0\n",
    "    predicted = []\n",
    "    true = []\n",
    "    count = 0\n",
    "    for data, target, target_output in dataloader:\n",
    "        data = data.to(device)\n",
    "        data = data.float()\n",
    "        target = target.to(device)\n",
    "        target= target.float()\n",
    "        \n",
    "        optimizer.zero_grad()\n",
    "        \n",
    "        outputs = model(data)\n",
    "        outputs= outputs.view(-1,)\n",
    "        \n",
    "        loss = criterion(target, outputs)\n",
    "        loss.backward()\n",
    "        \n",
    "        optimizer.step()\n",
    "        \n",
    "        tr_running_loss += loss.item()\n",
    "        \n",
    "    \n",
    "        predicted += outputs.detach().cpu().numpy().tolist()\n",
    "        true += target.detach().cpu().numpy().tolist()\n",
    "\n",
    "        count+=1\n",
    "\n",
    "        # print('batch {} completed'.format(count))\n",
    "\n",
    "    tr_running_loss = tr_running_loss / count    \n",
    "    predicted = np.array(predicted)\n",
    "    true = np.array(true)\n",
    "    \n",
    "    pcc = calculate_perf_measure(true, predicted)\n",
    "    \n",
    "    end_time = time.perf_counter()\n",
    "    \n",
    "    print('Time taken: ', end_time - start_time)\n",
    "        \n",
    "    return tr_running_loss, pcc, model"
   ]
  },
  {
   "cell_type": "code",
   "execution_count": 115,
   "metadata": {
    "id": "JU7EWZ-sQG9K"
   },
   "outputs": [],
   "source": [
    "def evaluate(dataloader, model, criterion):\n",
    "    device = 'cuda' if torch.cuda.is_available() else 'cpu'\n",
    "    model = model.to(device)\n",
    "    model.eval()\n",
    "    \n",
    "    val_loss = 0\n",
    "    predicted = []\n",
    "    true = []\n",
    "    true_original_space = []\n",
    "    \n",
    "    eval_loss = 0\n",
    "    count = 0\n",
    "    for data, target, true_scaled in dataloader:\n",
    "        data = data.to(device)\n",
    "        data = data.float()\n",
    "        target = target.to(device)\n",
    "        target = target.float()\n",
    "        \n",
    "        outputs = model(data)\n",
    "        outputs= outputs.view(-1,)\n",
    "        \n",
    "        loss = criterion(target, outputs)\n",
    "        \n",
    "        eval_loss += loss.item()\n",
    "        \n",
    "        predicted += outputs.detach().cpu().numpy().tolist()\n",
    "        true += target.detach().cpu().numpy().tolist()\n",
    "        true_original_space += true_scaled.numpy().tolist()\n",
    "\n",
    "        count+=1\n",
    "\n",
    "    eval_loss = eval_loss / count    \n",
    "    predicted = np.array(predicted)\n",
    "    true = np.array(true)\n",
    "    \n",
    "    pcc = calculate_perf_measure(true, predicted)\n",
    "    \n",
    "    return eval_loss, pcc, np.array(true_original_space), predicted"
   ]
  },
  {
   "cell_type": "code",
   "execution_count": 116,
   "metadata": {
    "id": "y_bqpqrSQG9L"
   },
   "outputs": [],
   "source": [
    "def train_model(tr_dataset, validation_dataset, num_epoch=3000, reduce_dim=256, batch_size=16):\n",
    "    num_env = 81\n",
    "    num_geno=tr_dataset.data.shape[1] - num_env\n",
    "    # num_features = tr_dataset.data.shape[1]\n",
    "    \n",
    "    device = 'cuda' if torch.cuda.is_available() else 'cpu'\n",
    "    print('Model is traning on: ', device)\n",
    "    \n",
    "    model = FCModel(num_env, num_geno, reduce_dim)\n",
    "    \n",
    "    criterion = nn.MSELoss().to(device)\n",
    "    optimizer = torch.optim.Adam(model.parameters(), lr=1e-4)\n",
    "    \n",
    "    tr_loader = DataLoader(dataset=tr_dataset, batch_size=batch_size)\n",
    "    val_loader = DataLoader(dataset=validation_dataset, batch_size=batch_size)\n",
    "    \n",
    "    best_val_loss = np.inf\n",
    "    best_model = None\n",
    "    best_pcc = np.NINF\n",
    "    best_pcc_model = None\n",
    "    no_improve = 0\n",
    "    i = 0\n",
    "    best_epoch = 0\n",
    "    is_loss_improved = False\n",
    "    is_pcc_improved = False\n",
    "    \n",
    "    tr_losses = []\n",
    "    val_losses = []\n",
    "    tr_pccs = []\n",
    "    val_pccs = []\n",
    "    while True:\n",
    "        tr_loss, tr_pcc, model = train(tr_loader, model, criterion, optimizer)\n",
    "        tr_losses.append(tr_loss)\n",
    "        tr_pccs.append(tr_pcc)\n",
    "        \n",
    "        val_loss, val_pcc, true_original_space, predicted = evaluate(val_loader, model, criterion)\n",
    "        val_losses.append(val_loss)\n",
    "        val_pccs.append(val_pcc)\n",
    "        \n",
    "        # if val_loss < best_val_loss:\n",
    "        #     best_val_loss = val_loss\n",
    "        #     best_model = copy.deepcopy(model)\n",
    "        #     best_epoch = i\n",
    "        #     no_improve = 0\n",
    "        #     is_loss_improved = True\n",
    "        # else:\n",
    "        #     is_loss_improved = False\n",
    "            \n",
    "        if best_pcc < val_pcc:\n",
    "            best_val_loss = val_loss\n",
    "            best_pcc_model = copy.deepcopy(model)\n",
    "            best_pcc = val_pcc\n",
    "            best_epoch = i\n",
    "            no_improve = 0\n",
    "            is_pcc_improved = True\n",
    "        else:\n",
    "            is_pcc_improved = False\n",
    "            \n",
    "        if is_pcc_improved == False:\n",
    "            no_improve += 1\n",
    "            \n",
    "        \n",
    "            \n",
    "        print(\"Current epoch: {} Best epoch {}\".format(i, best_epoch))\n",
    "        print(\"Training Loss: {}, training PCC: {}\".format(tr_loss, tr_pcc))\n",
    "        print(\"Validation Loss: {}, validation PCC: {}\".format(val_loss, val_pcc))\n",
    "        print()\n",
    "\n",
    "        i +=1\n",
    "        \n",
    "        if i % 15 == 0:\n",
    "            print('\\nSaving model: ')\n",
    "            # torch.save(best_pcc_model.state_dict(), '../processed_data/fc_model_env_middle_v2.pt')\n",
    "            # torch.save(best_pcc_model.state_dict(), '../processed_data/fc_model_env_pcc_middle_v2.pt')\n",
    "        \n",
    "        if no_improve == 10:\n",
    "            break\n",
    "    best_model=best_pcc_model\n",
    "    \n",
    "    return best_model, best_pcc_model, tr_losses, tr_pccs, val_losses, val_pccs"
   ]
  },
  {
   "cell_type": "code",
   "execution_count": 117,
   "metadata": {
    "id": "5SoQMAWTubuh"
   },
   "outputs": [],
   "source": [
    "def calculate_pcc_by_env():\n",
    "  test_data = pd.read_csv()\n",
    "  test_dataset = WheatDataset(geno_test_file, pheno_test_file) "
   ]
  },
  {
   "cell_type": "code",
   "execution_count": 118,
   "metadata": {
    "colab": {
     "base_uri": "https://localhost:8080/"
    },
    "id": "u_Kpo2_NQG9M",
    "outputId": "3421cc8b-5358-49d5-f492-7d27f09eb613"
   },
   "outputs": [
    {
     "name": "stdout",
     "output_type": "stream",
     "text": [
      "\n",
      "Sart reading dataset\n",
      "number of markers:  4133\n",
      "4.826152451885187\n",
      "10.0\n",
      "number of markers:  4133\n",
      "4.814854243455251\n",
      "10.0\n",
      "number of markers:  4133\n",
      "4.829793095564701\n",
      "10.0\n"
     ]
    }
   ],
   "source": [
    "print('\\nSart reading dataset')\n",
    "tr_dataset = WheatDataset(geno_training_file, pheno_training_file) \n",
    "test_dataset = WheatDataset(geno_test_file, pheno_test_file, tr_dataset.scaler, tr_dataset.output_scaler) \n",
    "# test_dataset_unique_env = WheatDataset(geno_test_file_unique_env, pheno_test_file_unique_env, tr_dataset.scaler, tr_dataset.output_scaler) \n",
    "validation_dataset = WheatDataset(geno_val_file, pheno_val_file, tr_dataset.scaler, tr_dataset.output_scaler) "
   ]
  },
  {
   "cell_type": "code",
   "execution_count": 119,
   "metadata": {
    "colab": {
     "base_uri": "https://localhost:8080/"
    },
    "id": "j2rhf0MMvo-a",
    "outputId": "4b27dde4-091e-4e69-8094-de8941bfa1f7"
   },
   "outputs": [
    {
     "data": {
      "text/plain": [
       "(66487, 4133)"
      ]
     },
     "execution_count": 119,
     "metadata": {},
     "output_type": "execute_result"
    }
   ],
   "source": [
    "tr_dataset.data.shape"
   ]
  },
  {
   "cell_type": "code",
   "execution_count": 120,
   "metadata": {
    "colab": {
     "base_uri": "https://localhost:8080/"
    },
    "id": "qavUtWKFQG9M",
    "outputId": "056e611b-db3a-40b6-fcc6-7d1f77e6f104"
   },
   "outputs": [
    {
     "name": "stdout",
     "output_type": "stream",
     "text": [
      "\n",
      "Starting training: \n",
      "Model is traning on:  cuda\n",
      "Time taken:  3206.9339845529757\n",
      "Current epoch: 0 Best epoch 0\n",
      "Training Loss: 4.900229517057631, training PCC: 0.04708672488308351\n",
      "Validation Loss: 8.557078749954439, validation PCC: 0.09992205155728266\n",
      "\n"
     ]
    },
    {
     "ename": "KeyboardInterrupt",
     "evalue": "",
     "output_type": "error",
     "traceback": [
      "\u001b[0;31m---------------------------------------------------------------------------\u001b[0m",
      "\u001b[0;31mKeyboardInterrupt\u001b[0m                         Traceback (most recent call last)",
      "\u001b[1;32m/home/amii.ca/jsheikh/personal_projects/phd_research/phd_research/notebooks/ml_fc_env_beginning.ipynb Cell 20\u001b[0m in \u001b[0;36m<cell line: 2>\u001b[0;34m()\u001b[0m\n\u001b[1;32m      <a href='vscode-notebook-cell://ssh-remote%2Bgpu04.amii.ca/home/amii.ca/jsheikh/personal_projects/phd_research/phd_research/notebooks/ml_fc_env_beginning.ipynb#X25sdnNjb2RlLXJlbW90ZQ%3D%3D?line=0'>1</a>\u001b[0m \u001b[39mprint\u001b[39m(\u001b[39m'\u001b[39m\u001b[39m\\n\u001b[39;00m\u001b[39mStarting training: \u001b[39m\u001b[39m'\u001b[39m)\n\u001b[0;32m----> <a href='vscode-notebook-cell://ssh-remote%2Bgpu04.amii.ca/home/amii.ca/jsheikh/personal_projects/phd_research/phd_research/notebooks/ml_fc_env_beginning.ipynb#X25sdnNjb2RlLXJlbW90ZQ%3D%3D?line=1'>2</a>\u001b[0m best_model, best_pcc_model, tr_losses, tr_pccs, val_losses, val_pccs \u001b[39m=\u001b[39m train_model(tr_dataset, validation_dataset, reduce_dim\u001b[39m=\u001b[39;49m\u001b[39m750\u001b[39;49m, batch_size\u001b[39m=\u001b[39;49m\u001b[39m64\u001b[39;49m)\n",
      "\u001b[1;32m/home/amii.ca/jsheikh/personal_projects/phd_research/phd_research/notebooks/ml_fc_env_beginning.ipynb Cell 20\u001b[0m in \u001b[0;36mtrain_model\u001b[0;34m(tr_dataset, validation_dataset, num_epoch, reduce_dim, batch_size)\u001b[0m\n\u001b[1;32m     <a href='vscode-notebook-cell://ssh-remote%2Bgpu04.amii.ca/home/amii.ca/jsheikh/personal_projects/phd_research/phd_research/notebooks/ml_fc_env_beginning.ipynb#X25sdnNjb2RlLXJlbW90ZQ%3D%3D?line=29'>30</a>\u001b[0m val_pccs \u001b[39m=\u001b[39m []\n\u001b[1;32m     <a href='vscode-notebook-cell://ssh-remote%2Bgpu04.amii.ca/home/amii.ca/jsheikh/personal_projects/phd_research/phd_research/notebooks/ml_fc_env_beginning.ipynb#X25sdnNjb2RlLXJlbW90ZQ%3D%3D?line=30'>31</a>\u001b[0m \u001b[39mwhile\u001b[39;00m \u001b[39mTrue\u001b[39;00m:\n\u001b[0;32m---> <a href='vscode-notebook-cell://ssh-remote%2Bgpu04.amii.ca/home/amii.ca/jsheikh/personal_projects/phd_research/phd_research/notebooks/ml_fc_env_beginning.ipynb#X25sdnNjb2RlLXJlbW90ZQ%3D%3D?line=31'>32</a>\u001b[0m     tr_loss, tr_pcc, model \u001b[39m=\u001b[39m train(tr_loader, model, criterion, optimizer)\n\u001b[1;32m     <a href='vscode-notebook-cell://ssh-remote%2Bgpu04.amii.ca/home/amii.ca/jsheikh/personal_projects/phd_research/phd_research/notebooks/ml_fc_env_beginning.ipynb#X25sdnNjb2RlLXJlbW90ZQ%3D%3D?line=32'>33</a>\u001b[0m     tr_losses\u001b[39m.\u001b[39mappend(tr_loss)\n\u001b[1;32m     <a href='vscode-notebook-cell://ssh-remote%2Bgpu04.amii.ca/home/amii.ca/jsheikh/personal_projects/phd_research/phd_research/notebooks/ml_fc_env_beginning.ipynb#X25sdnNjb2RlLXJlbW90ZQ%3D%3D?line=33'>34</a>\u001b[0m     tr_pccs\u001b[39m.\u001b[39mappend(tr_pcc)\n",
      "\u001b[1;32m/home/amii.ca/jsheikh/personal_projects/phd_research/phd_research/notebooks/ml_fc_env_beginning.ipynb Cell 20\u001b[0m in \u001b[0;36mtrain\u001b[0;34m(dataloader, model, criterion, optimizer)\u001b[0m\n\u001b[1;32m     <a href='vscode-notebook-cell://ssh-remote%2Bgpu04.amii.ca/home/amii.ca/jsheikh/personal_projects/phd_research/phd_research/notebooks/ml_fc_env_beginning.ipynb#X25sdnNjb2RlLXJlbW90ZQ%3D%3D?line=19'>20</a>\u001b[0m outputs\u001b[39m=\u001b[39m outputs\u001b[39m.\u001b[39mview(\u001b[39m-\u001b[39m\u001b[39m1\u001b[39m,)\n\u001b[1;32m     <a href='vscode-notebook-cell://ssh-remote%2Bgpu04.amii.ca/home/amii.ca/jsheikh/personal_projects/phd_research/phd_research/notebooks/ml_fc_env_beginning.ipynb#X25sdnNjb2RlLXJlbW90ZQ%3D%3D?line=21'>22</a>\u001b[0m loss \u001b[39m=\u001b[39m criterion(target, outputs)\n\u001b[0;32m---> <a href='vscode-notebook-cell://ssh-remote%2Bgpu04.amii.ca/home/amii.ca/jsheikh/personal_projects/phd_research/phd_research/notebooks/ml_fc_env_beginning.ipynb#X25sdnNjb2RlLXJlbW90ZQ%3D%3D?line=22'>23</a>\u001b[0m loss\u001b[39m.\u001b[39;49mbackward()\n\u001b[1;32m     <a href='vscode-notebook-cell://ssh-remote%2Bgpu04.amii.ca/home/amii.ca/jsheikh/personal_projects/phd_research/phd_research/notebooks/ml_fc_env_beginning.ipynb#X25sdnNjb2RlLXJlbW90ZQ%3D%3D?line=24'>25</a>\u001b[0m optimizer\u001b[39m.\u001b[39mstep()\n\u001b[1;32m     <a href='vscode-notebook-cell://ssh-remote%2Bgpu04.amii.ca/home/amii.ca/jsheikh/personal_projects/phd_research/phd_research/notebooks/ml_fc_env_beginning.ipynb#X25sdnNjb2RlLXJlbW90ZQ%3D%3D?line=26'>27</a>\u001b[0m tr_running_loss \u001b[39m+\u001b[39m\u001b[39m=\u001b[39m loss\u001b[39m.\u001b[39mitem()\n",
      "File \u001b[0;32m~/anaconda3/envs/blackice/lib/python3.9/site-packages/torch/_tensor.py:307\u001b[0m, in \u001b[0;36mTensor.backward\u001b[0;34m(self, gradient, retain_graph, create_graph, inputs)\u001b[0m\n\u001b[1;32m    298\u001b[0m \u001b[39mif\u001b[39;00m has_torch_function_unary(\u001b[39mself\u001b[39m):\n\u001b[1;32m    299\u001b[0m     \u001b[39mreturn\u001b[39;00m handle_torch_function(\n\u001b[1;32m    300\u001b[0m         Tensor\u001b[39m.\u001b[39mbackward,\n\u001b[1;32m    301\u001b[0m         (\u001b[39mself\u001b[39m,),\n\u001b[0;32m   (...)\u001b[0m\n\u001b[1;32m    305\u001b[0m         create_graph\u001b[39m=\u001b[39mcreate_graph,\n\u001b[1;32m    306\u001b[0m         inputs\u001b[39m=\u001b[39minputs)\n\u001b[0;32m--> 307\u001b[0m torch\u001b[39m.\u001b[39;49mautograd\u001b[39m.\u001b[39;49mbackward(\u001b[39mself\u001b[39;49m, gradient, retain_graph, create_graph, inputs\u001b[39m=\u001b[39;49minputs)\n",
      "File \u001b[0;32m~/anaconda3/envs/blackice/lib/python3.9/site-packages/torch/autograd/__init__.py:154\u001b[0m, in \u001b[0;36mbackward\u001b[0;34m(tensors, grad_tensors, retain_graph, create_graph, grad_variables, inputs)\u001b[0m\n\u001b[1;32m    151\u001b[0m \u001b[39mif\u001b[39;00m retain_graph \u001b[39mis\u001b[39;00m \u001b[39mNone\u001b[39;00m:\n\u001b[1;32m    152\u001b[0m     retain_graph \u001b[39m=\u001b[39m create_graph\n\u001b[0;32m--> 154\u001b[0m Variable\u001b[39m.\u001b[39;49m_execution_engine\u001b[39m.\u001b[39;49mrun_backward(\n\u001b[1;32m    155\u001b[0m     tensors, grad_tensors_, retain_graph, create_graph, inputs,\n\u001b[1;32m    156\u001b[0m     allow_unreachable\u001b[39m=\u001b[39;49m\u001b[39mTrue\u001b[39;49;00m, accumulate_grad\u001b[39m=\u001b[39;49m\u001b[39mTrue\u001b[39;49;00m)\n",
      "\u001b[0;31mKeyboardInterrupt\u001b[0m: "
     ]
    }
   ],
   "source": [
    "print('\\nStarting training: ')\n",
    "best_model, best_pcc_model, tr_losses, tr_pccs, val_losses, val_pccs = train_model(tr_dataset, validation_dataset, reduce_dim=750, batch_size=64)"
   ]
  },
  {
   "cell_type": "code",
   "execution_count": null,
   "metadata": {
    "id": "je0HHDo6QG9N"
   },
   "outputs": [],
   "source": [
    "model = best_model\n",
    "torch.save(model.state_dict(), model_path)"
   ]
  },
  {
   "cell_type": "code",
   "execution_count": null,
   "metadata": {
    "id": "djHQGuCkDqFi"
   },
   "outputs": [],
   "source": [
    "pcc_model = best_pcc_model\n",
    "torch.save(pcc_model.state_dict(), pcc_model_path)"
   ]
  },
  {
   "cell_type": "code",
   "execution_count": null,
   "metadata": {},
   "outputs": [],
   "source": [
    "with open(target_scaler_path, 'wb') as outfile:\n",
    "    pickle.dump(tr_dataset.output_scaler, outfile)"
   ]
  },
  {
   "cell_type": "code",
   "execution_count": null,
   "metadata": {},
   "outputs": [],
   "source": [
    "with open(env_scaler_path, 'wb') as outfile:\n",
    "    pickle.dump(tr_dataset.scaler, outfile)"
   ]
  },
  {
   "cell_type": "code",
   "execution_count": null,
   "metadata": {},
   "outputs": [],
   "source": [
    "df = pd.DataFrame({\n",
    "    'epochs': list(range(len(tr_losses))) * 2,\n",
    "    'loss': tr_losses + val_losses,\n",
    "    'type': ['training'] * len(tr_losses) + ['validation'] * len(val_losses),\n",
    "    'pcc': np.array(tr_pccs + val_pccs)\n",
    "})"
   ]
  },
  {
   "cell_type": "code",
   "execution_count": null,
   "metadata": {},
   "outputs": [],
   "source": [
    "df.to_pickle(training_output_path)"
   ]
  },
  {
   "cell_type": "code",
   "execution_count": null,
   "metadata": {},
   "outputs": [
    {
     "data": {
      "image/png": "[encoded data removed]",
      "text/plain": [
       "<Figure size 864x576 with 1 Axes>"
      ]
     },
     "metadata": {
      "needs_background": "light"
     },
     "output_type": "display_data"
    }
   ],
   "source": [
    "import seaborn as sns\n",
    "import matplotlib.pyplot as plt\n",
    "\n",
    "plt.figure(figsize = (12,8))\n",
    "ax = sns.lineplot(data=df, x=\"epochs\", y=\"loss\", hue=\"type\")\n",
    "ax.set_xlabel(\"# of Epochs\", fontsize = 14)\n",
    "ax.set_ylabel(\"Mean Square Error\", fontsize = 14)\n",
    "ax.legend(fontsize=14)\n",
    "fig = ax.get_figure()\n",
    "fig.savefig(figure_loss_path, dpi=256 )"
   ]
  },
  {
   "cell_type": "code",
   "execution_count": null,
   "metadata": {},
   "outputs": [
    {
     "data": {
      "image/png": "[encoded data removed]",
      "text/plain": [
       "<Figure size 864x576 with 1 Axes>"
      ]
     },
     "metadata": {
      "needs_background": "light"
     },
     "output_type": "display_data"
    }
   ],
   "source": [
    "plt.figure(figsize = (12,8))\n",
    "ax = sns.lineplot(data=df, x=\"epochs\", y=\"pcc\", hue=\"type\")\n",
    "fig = ax.get_figure()\n",
    "ax.set_xlabel(\"# of Epochs\", fontsize = 14)\n",
    "ax.set_ylabel(\"Pearson Correlation Coefficient\", fontsize = 14)\n",
    "ax.legend(fontsize=14)\n",
    "fig.savefig(figure_pcc_path, dpi=256)"
   ]
  },
  {
   "cell_type": "code",
   "execution_count": null,
   "metadata": {
    "id": "g2sBp8YnwKzg"
   },
   "outputs": [],
   "source": [
    "criterion = nn.MSELoss().to('cuda:0')\n",
    "test_loader = DataLoader(dataset=test_dataset, batch_size=64, shuffle=False)"
   ]
  },
  {
   "cell_type": "code",
   "execution_count": null,
   "metadata": {
    "id": "XGERSYSsv6Fc"
   },
   "outputs": [
    {
     "name": "stdout",
     "output_type": "stream",
     "text": [
      "test loss:  0.032685665936289326\n",
      "test pcc:  0.626799384694631\n"
     ]
    }
   ],
   "source": [
    "test_loss, test_pcc, true_original_space, predicted= evaluate(test_loader, model, criterion)\n",
    "print('test loss: ', test_loss)\n",
    "print('test pcc: ', test_pcc)"
   ]
  },
  {
   "cell_type": "code",
   "execution_count": null,
   "metadata": {},
   "outputs": [
    {
     "data": {
      "text/plain": [
       "0.6267993846284272"
      ]
     },
     "execution_count": 31,
     "metadata": {},
     "output_type": "execute_result"
    }
   ],
   "source": [
    "rescaled_predicted = rescale_data(tr_dataset.output_scaler, predicted)\n",
    "calculate_perf_measure(true_original_space, rescaled_predicted)"
   ]
  },
  {
   "cell_type": "code",
   "execution_count": null,
   "metadata": {},
   "outputs": [],
   "source": [
    "df = pd.DataFrame({\n",
    "    'True': true_original_space,\n",
    "    'Predicted': rescaled_predicted\n",
    "})"
   ]
  },
  {
   "cell_type": "code",
   "execution_count": null,
   "metadata": {},
   "outputs": [],
   "source": [
    "df.to_pickle(test_output_all_env_path)"
   ]
  },
  {
   "cell_type": "code",
   "execution_count": null,
   "metadata": {
    "id": "IvFATQi4DqFi"
   },
   "outputs": [],
   "source": [
    "# test_loss, test_pcc, true_original_space, predicted = evaluate(test_loader, pcc_model, criterion)\n",
    "# print('test loss: ', test_loss)\n",
    "# print('test pcc: ', test_pcc)"
   ]
  },
  {
   "cell_type": "code",
   "execution_count": null,
   "metadata": {},
   "outputs": [],
   "source": [
    "criterion = nn.MSELoss().to('cuda:0')\n",
    "test_loader = DataLoader(dataset=test_dataset_unique_env, batch_size=64, shuffle=False)"
   ]
  },
  {
   "cell_type": "code",
   "execution_count": null,
   "metadata": {},
   "outputs": [
    {
     "name": "stdout",
     "output_type": "stream",
     "text": [
      "test unique env loss:  0.05289757927035571\n",
      "test unique env pcc:  0.3855283330103893\n"
     ]
    }
   ],
   "source": [
    "test_loss, test_pcc, true_original_space, predicted = evaluate(test_loader, model, criterion)\n",
    "print('test unique env loss: ', test_loss)\n",
    "print('test unique env pcc: ', test_pcc)"
   ]
  },
  {
   "cell_type": "code",
   "execution_count": null,
   "metadata": {},
   "outputs": [],
   "source": [
    "# test_loss, test_pcc, true_original_space, predicted = evaluate(test_loader, pcc_model, criterion)\n",
    "# print('test unique env loss: ', test_loss)\n",
    "# print('test unique env pcc: ', test_pcc)"
   ]
  },
  {
   "cell_type": "code",
   "execution_count": null,
   "metadata": {},
   "outputs": [],
   "source": []
  },
  {
   "cell_type": "code",
   "execution_count": null,
   "metadata": {},
   "outputs": [],
   "source": [
    "rescaled_predicted = rescale_data(tr_dataset.output_scaler, predicted)"
   ]
  },
  {
   "cell_type": "code",
   "execution_count": null,
   "metadata": {},
   "outputs": [
    {
     "data": {
      "text/plain": [
       "0.38552833241036266"
      ]
     },
     "execution_count": 39,
     "metadata": {},
     "output_type": "execute_result"
    }
   ],
   "source": [
    "calculate_perf_measure(true_original_space, rescaled_predicted)"
   ]
  },
  {
   "cell_type": "code",
   "execution_count": null,
   "metadata": {},
   "outputs": [],
   "source": [
    "df = pd.DataFrame({\n",
    "    'True': true_original_space,\n",
    "    'Predicted': rescaled_predicted\n",
    "})\n",
    "\n",
    "df.to_pickle(test_output_unique_env_path)"
   ]
  }
 ],
 "metadata": {
  "accelerator": "GPU",
  "colab": {
   "collapsed_sections": [],
   "machine_shape": "hm",
   "name": "ml_fc_env_in_middle (2).ipynb",
   "provenance": []
  },
  "kernelspec": {
   "display_name": "blackice",
   "language": "python",
   "name": "python3"
  },
  "language_info": {
   "codemirror_mode": {
    "name": "ipython",
    "version": 3
   },
   "file_extension": ".py",
   "mimetype": "text/x-python",
   "name": "python",
   "nbconvert_exporter": "python",
   "pygments_lexer": "ipython3",
   "version": "3.9.7"
  }
 },
 "nbformat": 4,
 "nbformat_minor": 4
}
