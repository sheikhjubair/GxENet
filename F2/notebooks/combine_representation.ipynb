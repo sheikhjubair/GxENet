{
 "cells": [
  {
   "cell_type": "code",
   "execution_count": 97,
   "id": "ce8941ad-a611-4c5a-acfd-e23f9be561d5",
   "metadata": {},
   "outputs": [
    {
     "name": "stdout",
     "output_type": "stream",
     "text": [
      "The autoreload extension is already loaded. To reload it, use:\n",
      "  %reload_ext autoreload\n"
     ]
    }
   ],
   "source": [
    "%load_ext autoreload\n",
    "%autoreload 2\n",
    "import sys\n",
    "sys.path.append('../codes')\n",
    "from torch.utils.data import Dataset, DataLoader\n",
    "import pickle\n",
    "import numpy as np\n",
    "from sklearn.preprocessing import MinMaxScaler, OneHotEncoder\n",
    "import pandas as pd\n",
    "import config\n",
    "import pickle\n",
    "import config\n",
    "import networks\n",
    "import utils\n",
    "import loss\n",
    "import trainer\n",
    "import evaluator\n",
    "import plots\n",
    "import torch"
   ]
  },
  {
   "cell_type": "code",
   "execution_count": 98,
   "id": "3526321f-ee42-4ed7-9db1-f8bce4f98ca1",
   "metadata": {},
   "outputs": [],
   "source": [
    "from sklearn.ensemble import RandomForestRegressor\n",
    "from scipy.stats import spearmanr, pearsonr"
   ]
  },
  {
   "cell_type": "code",
   "execution_count": 99,
   "id": "e9f1ac86-e018-4403-96f5-e4f9d3bc8546",
   "metadata": {},
   "outputs": [],
   "source": [
    "def get_res_by_location(test_data):\n",
    "    locations = test_data['Loc_no'].unique()\n",
    "    trials = test_data['trial'].unique()\n",
    "\n",
    "    result_dict ={}\n",
    "    result_dict['location'] = []\n",
    "    result_dict['trial'] = []\n",
    "    result_dict['num_geno'] = []\n",
    "    result_dict['pcc'] = []\n",
    "\n",
    "    for location in locations:\n",
    "        for trial in trials:\n",
    "            partial_test = test_data[(test_data['Loc_no'] == location) & (test_data['trial'] == trial)]\n",
    "\n",
    "            if len(partial_test) > 20:\n",
    "               \n",
    "                pcc = pearsonr(partial_test['Value'].to_numpy().reshape(-1,), partial_test['predicted'].to_numpy().reshape(-1,))[0]\n",
    "                result_dict['location'].append(location)\n",
    "                result_dict['trial'].append(trial)\n",
    "                result_dict['num_geno'].append(len(partial_test))\n",
    "                result_dict['pcc'].append(pcc)\n",
    "   \n",
    "    result_df = pd.DataFrame(result_dict)\n",
    "   \n",
    "    return result_df"
   ]
  },
  {
   "cell_type": "code",
   "execution_count": 100,
   "id": "169d9229-521c-4f15-a941-847fbcca901c",
   "metadata": {},
   "outputs": [],
   "source": [
    "def get_data(file):\n",
    "    with open(file, 'rb') as pfile:\n",
    "        all_data = pickle.load(pfile)\n",
    "\n",
    "    all_data = all_data[all_data['Value'] < 10]\n",
    "    \n",
    "    weather = all_data['weather'].tolist()\n",
    "    weather = np.array(weather)\n",
    "    \n",
    "    genotypes = all_data.iloc[:, 3:-14].to_numpy()\n",
    "    \n",
    "    target = all_data['Value'].to_numpy()\n",
    "    \n",
    "    return genotypes, weather, target"
   ]
  },
  {
   "cell_type": "code",
   "execution_count": 101,
   "id": "a479fd37-6673-4c15-b627-7baf0c24b7db",
   "metadata": {},
   "outputs": [],
   "source": [
    "tr_genotypes, tr_weather, tr_target = get_data(config.training_data)"
   ]
  },
  {
   "cell_type": "code",
   "execution_count": 102,
   "id": "c15bd2d6-ce75-43af-b5cb-1bdbe62fb643",
   "metadata": {},
   "outputs": [],
   "source": [
    "test_genotypes, test_weather, test_target = get_data(config.test_data)"
   ]
  },
  {
   "cell_type": "code",
   "execution_count": 103,
   "id": "bf9274a3-cdc9-467e-a9f6-4b7b8d1f0915",
   "metadata": {},
   "outputs": [],
   "source": [
    "val_genotypes, val_weather, val_target = get_data(config.validation_data)"
   ]
  },
  {
   "cell_type": "code",
   "execution_count": 104,
   "id": "0e55012d",
   "metadata": {},
   "outputs": [],
   "source": [
    "test_genotypes_unique, test_weather_unique, test_target_unique = get_data(config.test_unique_env_data)"
   ]
  },
  {
   "cell_type": "markdown",
   "id": "0a739ebb-fe29-4a59-93a8-ebde22bfe94c",
   "metadata": {},
   "source": [
    "## weather representation"
   ]
  },
  {
   "cell_type": "code",
   "execution_count": 105,
   "id": "e175a3b3-9d41-41fd-a3dc-13319c9cde68",
   "metadata": {},
   "outputs": [
    {
     "data": {
      "text/plain": [
       "<All keys matched successfully>"
      ]
     },
     "execution_count": 105,
     "metadata": {},
     "output_type": "execute_result"
    }
   ],
   "source": [
    "mdl_avg_over_geno = networks.fc_avg_net_over_geno(num_features = tr_weather.shape[1], hidden_dim=54)\n",
    "mdl_avg_over_geno.load_state_dict(torch.load(config.model_avg_by_env_path))"
   ]
  },
  {
   "cell_type": "code",
   "execution_count": 106,
   "id": "965aa40a-b137-4cbc-957b-c1a3d4b42a59",
   "metadata": {},
   "outputs": [],
   "source": [
    "outputs, tr_weather_rep = evaluator.eval(torch.tensor(tr_weather), mdl_avg_over_geno)"
   ]
  },
  {
   "cell_type": "code",
   "execution_count": 107,
   "id": "10fb9ad0-0f2c-4621-a0ad-a3fdf4816c55",
   "metadata": {},
   "outputs": [],
   "source": [
    "outputs, test_weather_rep = evaluator.eval(torch.tensor(test_weather), mdl_avg_over_geno)\n",
    "outputs, test_weather_rep_unique = evaluator.eval(torch.tensor(test_weather_unique), mdl_avg_over_geno)"
   ]
  },
  {
   "cell_type": "code",
   "execution_count": 108,
   "id": "5c54fa68-fb5c-4387-82df-57aaf6802967",
   "metadata": {},
   "outputs": [],
   "source": [
    "outputs, val_weather_rep = evaluator.eval(torch.tensor(val_weather), mdl_avg_over_geno)"
   ]
  },
  {
   "cell_type": "code",
   "execution_count": 109,
   "id": "9b28d271-0ca9-4753-813f-ab0b8b4da943",
   "metadata": {},
   "outputs": [
    {
     "name": "stdout",
     "output_type": "stream",
     "text": [
      "(62556, 54)\n",
      "(12684, 54)\n",
      "(12347, 54)\n"
     ]
    }
   ],
   "source": [
    "tr_weather_rep = tr_weather_rep.cpu().detach().numpy()\n",
    "test_weather_rep = test_weather_rep.cpu().detach().numpy()\n",
    "val_weather_rep = val_weather_rep.cpu().detach().numpy()\n",
    "test_weather_rep_unique = test_weather_rep_unique.cpu().detach().numpy()\n",
    "print(tr_weather_rep.shape)\n",
    "print(test_weather_rep.shape)\n",
    "print(val_weather_rep.shape)"
   ]
  },
  {
   "cell_type": "markdown",
   "id": "35b18b81-46c4-4fa2-bd32-e03def17a658",
   "metadata": {},
   "source": [
    "## genotype representation"
   ]
  },
  {
   "cell_type": "code",
   "execution_count": 110,
   "id": "5a9bb9e1-ac9b-404c-ac37-71d7c971d698",
   "metadata": {},
   "outputs": [
    {
     "data": {
      "text/plain": [
       "<All keys matched successfully>"
      ]
     },
     "execution_count": 110,
     "metadata": {},
     "output_type": "execute_result"
    }
   ],
   "source": [
    "mdl_avg_over_env = networks.fc_avg_net(num_features = tr_genotypes.shape[1], hidden_dim=2000)\n",
    "mdl_avg_over_env.load_state_dict(torch.load(config.model_avg_by_geno_path))"
   ]
  },
  {
   "cell_type": "code",
   "execution_count": 111,
   "id": "ae249365-f1a3-4070-8379-b7eead59cf08",
   "metadata": {},
   "outputs": [],
   "source": [
    "outputs, tr_geno_rep = evaluator.eval(torch.tensor(tr_genotypes), mdl_avg_over_env)"
   ]
  },
  {
   "cell_type": "code",
   "execution_count": 112,
   "id": "2dd28035-8f1d-43c9-b9a5-8a37ac4606e3",
   "metadata": {},
   "outputs": [],
   "source": [
    "outputs, test_geno_rep = evaluator.eval(torch.tensor(test_genotypes), mdl_avg_over_env)\n",
    "outputs, test_geno_rep_unique = evaluator.eval(torch.tensor(test_genotypes_unique), mdl_avg_over_env)"
   ]
  },
  {
   "cell_type": "code",
   "execution_count": 113,
   "id": "dbeab83a-e010-460e-bd8b-75592855ce9a",
   "metadata": {},
   "outputs": [],
   "source": [
    "outputs, val_geno_rep = evaluator.eval(torch.tensor(val_genotypes), mdl_avg_over_env)"
   ]
  },
  {
   "cell_type": "code",
   "execution_count": 114,
   "id": "fcbb0994-15ec-4a1a-af19-246ed7353b7b",
   "metadata": {},
   "outputs": [
    {
     "name": "stdout",
     "output_type": "stream",
     "text": [
      "(62556, 296)\n",
      "(12684, 296)\n",
      "(12347, 296)\n"
     ]
    }
   ],
   "source": [
    "tr_geno_rep = tr_geno_rep.cpu().detach().numpy()\n",
    "test_geno_rep = test_geno_rep.cpu().detach().numpy()\n",
    "val_geno_rep = val_geno_rep.cpu().detach().numpy()\n",
    "test_geno_rep_unique = test_geno_rep_unique.cpu().detach().numpy()\n",
    "print(tr_geno_rep.shape)\n",
    "print(test_geno_rep.shape)\n",
    "print(val_geno_rep.shape)"
   ]
  },
  {
   "cell_type": "markdown",
   "id": "07cbf425-74ae-493d-89a3-390bd9c1ea37",
   "metadata": {},
   "source": [
    "## Env specific pred"
   ]
  },
  {
   "cell_type": "code",
   "execution_count": 115,
   "id": "e4670308-9ca8-4375-b6c8-b069e589d920",
   "metadata": {},
   "outputs": [],
   "source": [
    "tr_data = np.concatenate((tr_geno_rep, tr_weather_rep), axis =1)\n",
    "test_data = np.concatenate((test_geno_rep, test_weather_rep), axis=1)\n",
    "val_data = np.concatenate((val_geno_rep, val_weather_rep), axis = 1)\n",
    "test_data_unique = np.concatenate((test_geno_rep_unique, test_weather_rep_unique), axis=1)"
   ]
  },
  {
   "cell_type": "code",
   "execution_count": 116,
   "id": "4350e1d8-d5ca-41b3-91bc-2c45ae5b1d9a",
   "metadata": {},
   "outputs": [
    {
     "data": {
      "text/plain": [
       "(62556, 350)"
      ]
     },
     "execution_count": 116,
     "metadata": {},
     "output_type": "execute_result"
    }
   ],
   "source": [
    "tr_data.shape"
   ]
  },
  {
   "cell_type": "code",
   "execution_count": null,
   "id": "34ec2eb2-4413-4b95-8288-eccce693c47a",
   "metadata": {},
   "outputs": [],
   "source": []
  },
  {
   "cell_type": "code",
   "execution_count": 117,
   "id": "99917259-4ae7-401f-bf23-1b4eeff4c412",
   "metadata": {},
   "outputs": [],
   "source": [
    "with open(config.training_representation, 'wb') as wfile:\n",
    "    pickle.dump(np.concatenate((tr_data, tr_target.reshape(-1,1)), axis=1), wfile)\n",
    "    \n",
    "with open(config.test_representation, 'wb') as wfile:\n",
    "    pickle.dump(np.concatenate((test_data, test_target.reshape(-1,1)), axis=1), wfile)\n",
    "    \n",
    "with open(config.val_representation, 'wb') as wfile:\n",
    "    pickle.dump(np.concatenate((val_data, val_target.reshape(-1,1)), axis=1), wfile)\n",
    "    \n",
    "with open(config.test_representation_unique_env, 'wb') as wfile:\n",
    "    pickle.dump(np.concatenate((test_data_unique, test_target_unique.reshape(-1,1)), axis=1), wfile)"
   ]
  },
  {
   "cell_type": "code",
   "execution_count": 118,
   "id": "9da4b785-4eba-4341-bf63-c08b1ecdf903",
   "metadata": {},
   "outputs": [
    {
     "data": {
      "text/plain": [
       "'../processed_data/tr_rep_learned_v5.pkl'"
      ]
     },
     "execution_count": 118,
     "metadata": {},
     "output_type": "execute_result"
    }
   ],
   "source": [
    "config.training_representation"
   ]
  }
 ],
 "metadata": {
  "kernelspec": {
   "display_name": "blackice",
   "language": "python",
   "name": "blackice"
  },
  "language_info": {
   "codemirror_mode": {
    "name": "ipython",
    "version": 3
   },
   "file_extension": ".py",
   "mimetype": "text/x-python",
   "name": "python",
   "nbconvert_exporter": "python",
   "pygments_lexer": "ipython3",
   "version": "3.9.7"
  }
 },
 "nbformat": 4,
 "nbformat_minor": 5
}
