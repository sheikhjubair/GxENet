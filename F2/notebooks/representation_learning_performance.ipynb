{
 "cells": [
  {
   "cell_type": "code",
   "execution_count": 179,
   "id": "ce8941ad-a611-4c5a-acfd-e23f9be561d5",
   "metadata": {},
   "outputs": [
    {
     "name": "stdout",
     "output_type": "stream",
     "text": [
      "The autoreload extension is already loaded. To reload it, use:\n",
      "  %reload_ext autoreload\n"
     ]
    }
   ],
   "source": [
    "%load_ext autoreload\n",
    "%autoreload 2\n",
    "import sys\n",
    "sys.path.append('../codes')\n",
    "from torch.utils.data import Dataset, DataLoader\n",
    "import pickle\n",
    "import numpy as np\n",
    "from sklearn.preprocessing import MinMaxScaler, OneHotEncoder\n",
    "import pandas as pd\n",
    "import config\n",
    "import pickle\n",
    "import config\n",
    "import networks\n",
    "import utils\n",
    "import loss\n",
    "import trainer\n",
    "import evaluator\n",
    "import plots\n",
    "import torch\n",
    "from torch  import nn\n",
    "from scipy.stats import pearsonr\n",
    "from captum.attr import DeepLift, IntegratedGradients"
   ]
  },
  {
   "cell_type": "code",
   "execution_count": 180,
   "id": "3526321f-ee42-4ed7-9db1-f8bce4f98ca1",
   "metadata": {},
   "outputs": [],
   "source": [
    "from sklearn.ensemble import RandomForestRegressor\n",
    "from scipy.stats import spearmanr, pearsonr"
   ]
  },
  {
   "cell_type": "code",
   "execution_count": 181,
   "id": "e9f1ac86-e018-4403-96f5-e4f9d3bc8546",
   "metadata": {},
   "outputs": [],
   "source": [
    "def get_res_by_location(test_data):\n",
    "    locations = test_data['Loc_no'].unique()\n",
    "    trials = test_data['trial'].unique()\n",
    "\n",
    "    result_dict ={}\n",
    "    result_dict['location'] = []\n",
    "    result_dict['trial'] = []\n",
    "    result_dict['num_geno'] = []\n",
    "    result_dict['pcc'] = []\n",
    "\n",
    "    for location in locations:\n",
    "        for trial in trials:\n",
    "            partial_test = test_data[(test_data['Loc_no'] == location) & (test_data['trial'] == trial)]\n",
    "\n",
    "            if len(partial_test) > 20:\n",
    "               \n",
    "                pcc = pearsonr(partial_test['Value'].to_numpy().reshape(-1,), partial_test['predicted'].to_numpy().reshape(-1,))[0]\n",
    "                result_dict['location'].append(location)\n",
    "                result_dict['trial'].append(trial)\n",
    "                result_dict['num_geno'].append(len(partial_test))\n",
    "                result_dict['pcc'].append(pcc)\n",
    "   \n",
    "    result_df = pd.DataFrame(result_dict)\n",
    "   \n",
    "    return result_df"
   ]
  },
  {
   "cell_type": "code",
   "execution_count": 182,
   "id": "169d9229-521c-4f15-a941-847fbcca901c",
   "metadata": {},
   "outputs": [],
   "source": [
    "def get_data(file):\n",
    "    with open(file, 'rb') as pfile:\n",
    "        all_data = pickle.load(pfile)\n",
    "\n",
    "    all_data = all_data[all_data['Value'] < 10]\n",
    "    \n",
    "    weather = all_data['weather'].tolist()\n",
    "    weather = np.array(weather)\n",
    "    \n",
    "    genotypes = all_data.iloc[:, 3:-14].to_numpy()\n",
    "    \n",
    "    target = all_data['Value'].to_numpy()\n",
    "    \n",
    "    return genotypes, weather, target"
   ]
  },
  {
   "cell_type": "markdown",
   "id": "6a3acff8",
   "metadata": {},
   "source": [
    "## weather representation"
   ]
  },
  {
   "cell_type": "code",
   "execution_count": 183,
   "id": "a479fd37-6673-4c15-b627-7baf0c24b7db",
   "metadata": {},
   "outputs": [],
   "source": [
    "test_loader = utils.create_dataloader_by_env_avg(config.test_unique_env_data, \n",
    "                                                        is_training=False)"
   ]
  },
  {
   "cell_type": "code",
   "execution_count": 184,
   "id": "c15bd2d6-ce75-43af-b5cb-1bdbe62fb643",
   "metadata": {},
   "outputs": [
    {
     "data": {
      "text/plain": [
       "(133, 81)"
      ]
     },
     "execution_count": 184,
     "metadata": {},
     "output_type": "execute_result"
    }
   ],
   "source": [
    "# test_genotypes, test_weather, test_target = get_data(config.test_data)\n",
    "test_loader.dataset.data.shape"
   ]
  },
  {
   "cell_type": "code",
   "execution_count": 185,
   "id": "e175a3b3-9d41-41fd-a3dc-13319c9cde68",
   "metadata": {},
   "outputs": [],
   "source": [
    "mdl_avg_over_geno = networks.fc_avg_net_over_geno(num_features = test_loader.dataset.data.shape[1], hidden_dim=54)\n",
    "mdl_avg_over_geno.load_state_dict(torch.load(config.model_avg_by_env_path))\n",
    "criterion = nn.MSELoss()"
   ]
  },
  {
   "cell_type": "code",
   "execution_count": 186,
   "id": "965aa40a-b137-4cbc-957b-c1a3d4b42a59",
   "metadata": {},
   "outputs": [],
   "source": [
    "test_loss, test_true, test_predicted = evaluator.evaluate_step_by_avg(test_loader, mdl_avg_over_geno, criterion)"
   ]
  },
  {
   "cell_type": "code",
   "execution_count": 187,
   "id": "10fb9ad0-0f2c-4621-a0ad-a3fdf4816c55",
   "metadata": {},
   "outputs": [
    {
     "name": "stdout",
     "output_type": "stream",
     "text": [
      "PCC:  0.5781606262013186\n"
     ]
    }
   ],
   "source": [
    "print('PCC: ', pearsonr(test_true, test_predicted)[0])"
   ]
  },
  {
   "cell_type": "markdown",
   "id": "ab5691ec",
   "metadata": {},
   "source": [
    "## Environment importance"
   ]
  },
  {
   "cell_type": "code",
   "execution_count": 188,
   "id": "55da721b",
   "metadata": {},
   "outputs": [
    {
     "data": {
      "text/plain": [
       "<All keys matched successfully>"
      ]
     },
     "execution_count": 188,
     "metadata": {},
     "output_type": "execute_result"
    }
   ],
   "source": [
    "mdl_avg_over_geno = networks.fc_avg_net_over_geno(num_features = test_loader.dataset.data.shape[1], hidden_dim=54)\n",
    "mdl_avg_over_geno.load_state_dict(torch.load(config.model_avg_by_env_path))"
   ]
  },
  {
   "cell_type": "code",
   "execution_count": 189,
   "id": "22b395b5",
   "metadata": {},
   "outputs": [],
   "source": [
    "# # device = torch.device('cuda:0' if torch.cuda.is_available() else 'cpu')\n",
    "# # device ='cpu'\n",
    "\n",
    "# # mdl_avg_over_geno.to(device)\n",
    "# mdl_avg_over_geno.eval()\n",
    "\n",
    "\n",
    "# # data = test_loader.dataset.data\n",
    "# # baseline = torch.zeros(data.shape)\n",
    "\n",
    "# # data = torch.from_numpy(data)\n",
    "# # data = data.float()\n",
    "# # data = data.to(device)\n",
    "# data = torch.rand(50,81)\n",
    "# # data = data.to(device)\n",
    "\n",
    "# baseline = torch.zeros(data.shape)\n",
    "\n",
    "# # baseline = baseline.to(device)\n",
    "\n",
    "\n",
    "# dl = DeepLift(mdl_avg_over_geno) \n",
    "# attributions, delta = dl.attribute(data, baseline, target=0, return_convergence_delta=True)"
   ]
  },
  {
   "cell_type": "code",
   "execution_count": 190,
   "id": "2cb4a4f9",
   "metadata": {},
   "outputs": [],
   "source": [
    "# data.shape\n"
   ]
  },
  {
   "cell_type": "markdown",
   "id": "35b18b81-46c4-4fa2-bd32-e03def17a658",
   "metadata": {},
   "source": [
    "## genotype representation"
   ]
  },
  {
   "cell_type": "code",
   "execution_count": 191,
   "id": "2e0f3061",
   "metadata": {},
   "outputs": [],
   "source": [
    "test_loader = utils.create_dataloader_by_geno_avg(config.test_unique_env_data, \n",
    "                                                        is_training=False)"
   ]
  },
  {
   "cell_type": "code",
   "execution_count": 192,
   "id": "5a9bb9e1-ac9b-404c-ac37-71d7c971d698",
   "metadata": {},
   "outputs": [],
   "source": [
    "mdl_avg_over_env = networks.fc_avg_net(num_features = test_loader.dataset.data.shape[1], hidden_dim=2000)\n",
    "mdl_avg_over_env.load_state_dict(torch.load(config.model_avg_by_geno_path))\n",
    "criterion = nn.MSELoss()"
   ]
  },
  {
   "cell_type": "code",
   "execution_count": 193,
   "id": "ae249365-f1a3-4070-8379-b7eead59cf08",
   "metadata": {},
   "outputs": [],
   "source": [
    "test_loss, test_true, test_predicted = evaluator.evaluate_step_by_avg(test_loader, mdl_avg_over_env, criterion)"
   ]
  },
  {
   "cell_type": "code",
   "execution_count": 194,
   "id": "2dd28035-8f1d-43c9-b9a5-8a37ac4606e3",
   "metadata": {},
   "outputs": [
    {
     "name": "stdout",
     "output_type": "stream",
     "text": [
      "PCC:  0.29874782167211883\n"
     ]
    }
   ],
   "source": [
    "print('PCC: ', pearsonr(test_true, test_predicted)[0])"
   ]
  }
 ],
 "metadata": {
  "kernelspec": {
   "display_name": "blackice",
   "language": "python",
   "name": "blackice"
  },
  "language_info": {
   "codemirror_mode": {
    "name": "ipython",
    "version": 3
   },
   "file_extension": ".py",
   "mimetype": "text/x-python",
   "name": "python",
   "nbconvert_exporter": "python",
   "pygments_lexer": "ipython3",
   "version": "3.9.7"
  }
 },
 "nbformat": 4,
 "nbformat_minor": 5
}
