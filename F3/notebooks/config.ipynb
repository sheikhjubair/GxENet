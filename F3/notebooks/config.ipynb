{
 "cells": [
  {
   "cell_type": "code",
   "execution_count": null,
   "id": "removed-trader",
   "metadata": {},
   "outputs": [],
   "source": [
    "version ='v5'\n",
    "training_data = '../processed_data/tr_geno_with_8_m_avg_all_data_' + version + '.pkl'\n",
    "test_data = '../processed_data/test_geno_with_8_m_avg_all_data_{}.pkl'.format(version)\n",
    "test_unique_env_data = '../processed_data/test_geno_unique_env_with_8_m_avg_all_data_{}.pkl'.format(version)\n",
    "validation_data = '../processed_data/val_geno_with_8_m_avg_all_data_{}.pkl'.format(version)"
   ]
  },
  {
   "cell_type": "code",
   "execution_count": null,
   "id": "lined-utility",
   "metadata": {},
   "outputs": [],
   "source": [
    "num_env = 81\n",
    "num_epoch = 3000\n",
    "batch_size = 16\n",
    "reduce_dim = 256"
   ]
  }
 ],
 "metadata": {
  "kernelspec": {
   "display_name": "Python 3 (ipykernel)",
   "language": "python",
   "name": "python3"
  },
  "language_info": {
   "codemirror_mode": {
    "name": "ipython",
    "version": 3
   },
   "file_extension": ".py",
   "mimetype": "text/x-python",
   "name": "python",
   "nbconvert_exporter": "python",
   "pygments_lexer": "ipython3",
   "version": "3.9.7"
  }
 },
 "nbformat": 4,
 "nbformat_minor": 5
}
