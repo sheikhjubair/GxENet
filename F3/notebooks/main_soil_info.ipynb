{
 "cells": [
  {
   "cell_type": "code",
   "execution_count": 27,
   "id": "seasonal-grenada",
   "metadata": {},
   "outputs": [],
   "source": [
    "\n",
    "import sys\n",
    "sys.path.append('../codes')"
   ]
  },
  {
   "cell_type": "code",
   "execution_count": 28,
   "id": "animated-display",
   "metadata": {},
   "outputs": [],
   "source": [
    "import torch\n",
    "import numpy as np\n",
    "import pandas as pd\n",
    "from torch  import nn\n",
    "from sklearn.preprocessing import OneHotEncoder"
   ]
  },
  {
   "cell_type": "code",
   "execution_count": 29,
   "id": "intended-instrument",
   "metadata": {},
   "outputs": [],
   "source": [
    "# %load_ext autoreload\n",
    "# %autoreload 2\n",
    "import networks\n",
    "import utils\n",
    "import config\n",
    "import loss\n",
    "import trainer\n",
    "import pickle\n",
    "import evaluator\n",
    "from sklearn.preprocessing import MinMaxScaler"
   ]
  },
  {
   "cell_type": "code",
   "execution_count": 30,
   "id": "ed478744-4bba-4477-aba1-fd59c073ea7b",
   "metadata": {},
   "outputs": [],
   "source": [
    "tr_loader = utils.create_dataloader_soil(config.training_representation, config.training_data, config.soil_data)"
   ]
  },
  {
   "cell_type": "code",
   "execution_count": 31,
   "id": "ranging-engagement",
   "metadata": {},
   "outputs": [],
   "source": [
    "validation_loader = utils.create_dataloader_soil(config.val_representation, config.validation_data, config.soil_data,\n",
    "                                                        is_training=False)"
   ]
  },
  {
   "cell_type": "code",
   "execution_count": null,
   "id": "38510bff-a914-467f-a513-e1562c6d4ad2",
   "metadata": {},
   "outputs": [],
   "source": []
  },
  {
   "cell_type": "code",
   "execution_count": 32,
   "id": "eaeffd7e-052c-4d78-8481-e33a13204256",
   "metadata": {},
   "outputs": [],
   "source": [
    "# utils.dump_pickle(tr_loader.dataset.weather_scaler, config.weather_scaler_path)\n",
    "# utils.dump_pickle(tr_loader.dataset.target_scaler, config.target_scaler_path)"
   ]
  },
  {
   "cell_type": "code",
   "execution_count": 33,
   "id": "aggregate-cartridge",
   "metadata": {},
   "outputs": [
    {
     "name": "stdout",
     "output_type": "stream",
     "text": [
      "cuda:1\n"
     ]
    }
   ],
   "source": [
    "device = torch.device('cuda:1' if torch.cuda.is_available() else 'cpu')\n",
    "print(device)"
   ]
  },
  {
   "cell_type": "code",
   "execution_count": 34,
   "id": "brutal-andrews",
   "metadata": {},
   "outputs": [],
   "source": [
    "num_geno = tr_loader.dataset.data.shape[1]\n",
    "model = networks.final_net(num_features = tr_loader.dataset.data.shape[1], hidden_dim=350)"
   ]
  },
  {
   "cell_type": "code",
   "execution_count": 35,
   "id": "auburn-motivation",
   "metadata": {},
   "outputs": [],
   "source": [
    "criterion = nn.MSELoss()"
   ]
  },
  {
   "cell_type": "code",
   "execution_count": 36,
   "id": "5271347d-92c6-47af-a5f4-4dd595f0f2f8",
   "metadata": {},
   "outputs": [
    {
     "name": "stdout",
     "output_type": "stream",
     "text": [
      "Current epoch: 400 Best epoch 356\n",
      "Training Loss: 1.4200573268067807, training PCC: 0.8201084243018852\n",
      "Validation Loss: 2.110083126805607, validation PCC: 0.7534003926879635\n",
      "\n",
      "Current epoch: 401 Best epoch 356\n",
      "Training Loss: 1.417770872754819, training PCC: 0.8204309394317411\n",
      "Validation Loss: 2.1089092547102912, validation PCC: 0.7545192460098327\n",
      "\n",
      "Current epoch: 402 Best epoch 356\n",
      "Training Loss: 1.4188634156418578, training PCC: 0.8202776303365432\n",
      "Validation Loss: 2.1179578870998146, validation PCC: 0.7546982757887287\n",
      "\n",
      "Current epoch: 403 Best epoch 356\n",
      "Training Loss: 1.4171390842598723, training PCC: 0.8205193777117468\n",
      "Validation Loss: 2.1102393629328575, validation PCC: 0.7552333487015965\n",
      "\n",
      "Current epoch: 404 Best epoch 356\n",
      "Training Loss: 1.4166686991672686, training PCC: 0.8205860406782773\n",
      "Validation Loss: 2.1078792075419055, validation PCC: 0.7553203877752979\n",
      "\n",
      "Current epoch: 405 Best epoch 356\n",
      "Training Loss: 1.4178816818520237, training PCC: 0.8204165441231602\n",
      "Validation Loss: 2.1096811910676214, validation PCC: 0.7551778069207473\n",
      "\n",
      "Current epoch: 406 Best epoch 356\n",
      "Training Loss: 1.413990385392133, training PCC: 0.8209618414855299\n",
      "Validation Loss: 2.115680619070567, validation PCC: 0.7550238606480596\n",
      "\n",
      "Current epoch: 407 Best epoch 356\n",
      "Training Loss: 1.413808360497665, training PCC: 0.8209882712377454\n",
      "Validation Loss: 2.1077028991644866, validation PCC: 0.7553401567239637\n",
      "\n",
      "Current epoch: 408 Best epoch 356\n",
      "Training Loss: 1.4101084395442778, training PCC: 0.8215090536404444\n",
      "Validation Loss: 2.1113293136957396, validation PCC: 0.7544638531217939\n",
      "\n",
      "Current epoch: 409 Best epoch 356\n",
      "Training Loss: 1.4114148967939875, training PCC: 0.8213245410574961\n",
      "Validation Loss: 2.112634489882178, validation PCC: 0.7542375094700386\n",
      "\n",
      "Current epoch: 410 Best epoch 356\n",
      "Training Loss: 1.4107499564700114, training PCC: 0.8214178830892758\n",
      "Validation Loss: 2.102459725166232, validation PCC: 0.7547565566490678\n",
      "\n",
      "Current epoch: 411 Best epoch 356\n",
      "Training Loss: 1.4099685654158483, training PCC: 0.82152831014297\n",
      "Validation Loss: 2.1026270675226812, validation PCC: 0.7554729266097499\n",
      "\n",
      "Current epoch: 412 Best epoch 356\n",
      "Training Loss: 1.409649873153328, training PCC: 0.8215717044157542\n",
      "Validation Loss: 2.0989375744458925, validation PCC: 0.7555382135280554\n",
      "\n",
      "Current epoch: 413 Best epoch 356\n",
      "Training Loss: 1.4075589662775054, training PCC: 0.8218662528431978\n",
      "Validation Loss: 2.0920556298809347, validation PCC: 0.7557711166737393\n",
      "\n",
      "Current epoch: 414 Best epoch 356\n",
      "Training Loss: 1.4077125167069229, training PCC: 0.8218444642360049\n",
      "Validation Loss: 2.0980185274941934, validation PCC: 0.7546430188200122\n",
      "\n",
      "Current epoch: 415 Best epoch 356\n",
      "Training Loss: 1.4074675341853706, training PCC: 0.8218783380462497\n",
      "Validation Loss: 2.098937907521589, validation PCC: 0.7548068567719936\n",
      "\n",
      "Current epoch: 416 Best epoch 356\n",
      "Training Loss: 1.4061385404118492, training PCC: 0.8220653591416884\n",
      "Validation Loss: 2.1033448467291698, validation PCC: 0.754419484302927\n",
      "\n",
      "Current epoch: 417 Best epoch 356\n",
      "Training Loss: 1.4057925729495484, training PCC: 0.8221131813312714\n",
      "Validation Loss: 2.106263429698549, validation PCC: 0.7543912055402223\n",
      "\n",
      "Current epoch: 418 Best epoch 356\n",
      "Training Loss: 1.405249349067888, training PCC: 0.8221890428392803\n",
      "Validation Loss: 2.1029317363556186, validation PCC: 0.7548219304266683\n",
      "\n",
      "Current epoch: 419 Best epoch 356\n",
      "Training Loss: 1.4063546211137186, training PCC: 0.8220344920808765\n",
      "Validation Loss: 2.1114494260111005, validation PCC: 0.7548112146112796\n",
      "\n",
      "Current epoch: 420 Best epoch 356\n",
      "Training Loss: 1.4041302253599361, training PCC: 0.8223463564574769\n",
      "Validation Loss: 2.0866603394246472, validation PCC: 0.7552214797225366\n",
      "\n",
      "Current epoch: 421 Best epoch 356\n",
      "Training Loss: 1.404085491852992, training PCC: 0.8223514203927534\n",
      "Validation Loss: 2.10560630223294, validation PCC: 0.7554793254805389\n",
      "\n",
      "Current epoch: 422 Best epoch 356\n",
      "Training Loss: 1.400745951351912, training PCC: 0.8228227123914589\n",
      "Validation Loss: 2.1087132304752427, validation PCC: 0.7556986580520756\n",
      "\n",
      "Current epoch: 423 Best epoch 356\n",
      "Training Loss: 1.4004934801774866, training PCC: 0.8228566766068204\n",
      "Validation Loss: 2.1094377368225334, validation PCC: 0.7554777903574625\n",
      "\n",
      "Current epoch: 424 Best epoch 356\n",
      "Training Loss: 1.4003887246484341, training PCC: 0.8228689665597937\n",
      "Validation Loss: 2.109556518842519, validation PCC: 0.7549778474515999\n",
      "\n",
      "Current epoch: 425 Best epoch 356\n",
      "Training Loss: 1.3985641007228276, training PCC: 0.8231269416917114\n",
      "Validation Loss: 2.1113784904615867, validation PCC: 0.7552323405576847\n",
      "\n",
      "Current epoch: 426 Best epoch 356\n",
      "Training Loss: 1.397036278819489, training PCC: 0.8233409912531892\n",
      "Validation Loss: 2.1175510367581265, validation PCC: 0.754986454338764\n",
      "\n",
      "Current epoch: 427 Best epoch 356\n",
      "Training Loss: 1.3974640994730507, training PCC: 0.8232795490398827\n",
      "Validation Loss: 2.1142997053003065, validation PCC: 0.7549242869838083\n",
      "\n",
      "Current epoch: 428 Best epoch 356\n",
      "Training Loss: 1.396719844726955, training PCC: 0.8233837508021971\n",
      "Validation Loss: 2.1145855314991016, validation PCC: 0.7546808565719968\n",
      "\n",
      "Current epoch: 429 Best epoch 356\n",
      "Training Loss: 1.3948193850343489, training PCC: 0.8236503928146093\n",
      "Validation Loss: 2.1012357360649605, validation PCC: 0.7550904413908952\n",
      "\n",
      "Current epoch: 430 Best epoch 356\n",
      "Training Loss: 1.3947761208809855, training PCC: 0.8236565147475319\n",
      "Validation Loss: 2.118002882429973, validation PCC: 0.7544450532348419\n",
      "\n",
      "Current epoch: 431 Best epoch 356\n",
      "Training Loss: 1.3927554541155505, training PCC: 0.8239389347742903\n",
      "Validation Loss: 2.100112371339699, validation PCC: 0.7547569740119149\n",
      "\n",
      "Current epoch: 432 Best epoch 356\n",
      "Training Loss: 1.3920722449679508, training PCC: 0.8240356792609621\n",
      "Validation Loss: 2.1148142561393697, validation PCC: 0.7540550439625331\n",
      "\n",
      "Current epoch: 433 Best epoch 356\n",
      "Training Loss: 1.3948006320563728, training PCC: 0.8236517599460851\n",
      "Validation Loss: 2.1195794901390768, validation PCC: 0.753356906824421\n",
      "\n",
      "Current epoch: 434 Best epoch 356\n",
      "Training Loss: 1.3931998481530972, training PCC: 0.8238761666064923\n",
      "Validation Loss: 2.1205517668180516, validation PCC: 0.7533463401828266\n",
      "\n",
      "Current epoch: 435 Best epoch 356\n",
      "Training Loss: 1.3926462058216105, training PCC: 0.8239537343153968\n",
      "Validation Loss: 2.122488936148777, validation PCC: 0.7531591602267292\n",
      "\n",
      "Current epoch: 436 Best epoch 356\n",
      "Training Loss: 1.3933170971739324, training PCC: 0.8238579794342065\n",
      "Validation Loss: 2.1128832138881783, validation PCC: 0.754062416876671\n",
      "\n",
      "Current epoch: 437 Best epoch 356\n",
      "Training Loss: 1.3929226650301452, training PCC: 0.8239138300835268\n",
      "Validation Loss: 2.1280824066443764, validation PCC: 0.7539522337492528\n",
      "\n",
      "Current epoch: 438 Best epoch 356\n",
      "Training Loss: 1.391064583515877, training PCC: 0.8241737910567699\n",
      "Validation Loss: 2.11136395789181, validation PCC: 0.7542832583145352\n",
      "\n",
      "Current epoch: 439 Best epoch 356\n",
      "Training Loss: 1.391449594147065, training PCC: 0.8241195301289199\n",
      "Validation Loss: 2.1344936300126998, validation PCC: 0.7532928845587685\n",
      "\n",
      "Current epoch: 440 Best epoch 356\n",
      "Training Loss: 1.3899887940081794, training PCC: 0.8243244930145234\n",
      "Validation Loss: 2.116355090561308, validation PCC: 0.7540922186466449\n",
      "\n",
      "Current epoch: 441 Best epoch 356\n",
      "Training Loss: 1.3901940964067074, training PCC: 0.8242948585826431\n",
      "Validation Loss: 2.106182699067605, validation PCC: 0.7546233366989581\n",
      "\n",
      "Current epoch: 442 Best epoch 356\n",
      "Training Loss: 1.3897509208268217, training PCC: 0.8243577615936858\n",
      "Validation Loss: 2.1348845714732154, validation PCC: 0.7530833827757121\n",
      "\n",
      "Current epoch: 443 Best epoch 356\n",
      "Training Loss: 1.39166254482001, training PCC: 0.8240930293132879\n",
      "Validation Loss: 2.1193935366183365, validation PCC: 0.7537525592074139\n",
      "\n",
      "Current epoch: 444 Best epoch 356\n",
      "Training Loss: 1.3897002299804517, training PCC: 0.8243648422956867\n",
      "Validation Loss: 2.1363372620523284, validation PCC: 0.7524099411356131\n",
      "\n",
      "Current epoch: 445 Best epoch 356\n",
      "Training Loss: 1.3918033940179269, training PCC: 0.8240712983993921\n",
      "Validation Loss: 2.1191282652202665, validation PCC: 0.7539434121156816\n",
      "\n",
      "Current epoch: 446 Best epoch 356\n",
      "Training Loss: 1.3919875056008855, training PCC: 0.824044620418182\n",
      "Validation Loss: 2.124548759639572, validation PCC: 0.7531491360153368\n",
      "\n",
      "Current epoch: 447 Best epoch 356\n",
      "Training Loss: 1.391539389817306, training PCC: 0.8241082951724256\n",
      "Validation Loss: 2.0964565332689435, validation PCC: 0.755355656339421\n",
      "\n",
      "Current epoch: 448 Best epoch 356\n",
      "Training Loss: 1.3876940626698686, training PCC: 0.8246440752064853\n",
      "Validation Loss: 2.1198066889930884, validation PCC: 0.7535806419996072\n",
      "\n",
      "Current epoch: 449 Best epoch 356\n",
      "Training Loss: 1.3900457399199382, training PCC: 0.8243155424740011\n",
      "Validation Loss: 2.109663141051722, validation PCC: 0.7541778445451028\n",
      "\n",
      "Current epoch: 450 Best epoch 356\n",
      "Training Loss: 1.3905710832618388, training PCC: 0.8242420114702095\n",
      "Validation Loss: 2.115741716765369, validation PCC: 0.7532008597867393\n",
      "\n",
      "Current epoch: 451 Best epoch 356\n",
      "Training Loss: 1.3902535383734862, training PCC: 0.82428697984349\n",
      "Validation Loss: 2.115274769808962, validation PCC: 0.7537400697730839\n",
      "\n",
      "Current epoch: 452 Best epoch 356\n",
      "Training Loss: 1.3897574476573777, training PCC: 0.8243560496425523\n",
      "Validation Loss: 2.1292392660916777, validation PCC: 0.7534471225961302\n",
      "\n",
      "Current epoch: 453 Best epoch 356\n",
      "Training Loss: 1.3907256018017868, training PCC: 0.8242197806303201\n",
      "Validation Loss: 2.105706270340193, validation PCC: 0.7540193023048888\n",
      "\n",
      "Current epoch: 454 Best epoch 356\n",
      "Training Loss: 1.3885828171544672, training PCC: 0.8245196095183116\n",
      "Validation Loss: 2.1179216922564827, validation PCC: 0.7540315284999303\n",
      "\n",
      "Current epoch: 455 Best epoch 356\n",
      "Training Loss: 1.389877456685771, training PCC: 0.8243402003636635\n",
      "Validation Loss: 2.1135902673469307, validation PCC: 0.7539082968022552\n",
      "\n",
      "Current epoch: 456 Best epoch 356\n",
      "Training Loss: 1.3910314566034185, training PCC: 0.8241796310036524\n",
      "Validation Loss: 2.1010895771374973, validation PCC: 0.754963202929674\n",
      "\n"
     ]
    }
   ],
   "source": [
    "output = trainer.train_model_by_avg(model, tr_loader, validation_loader, criterion, config.soil_model_path)"
   ]
  },
  {
   "cell_type": "code",
   "execution_count": 37,
   "id": "declared-florida",
   "metadata": {},
   "outputs": [],
   "source": [
    "tr_loss, val_loss, tr_pccs, val_pccs = output\n",
    "\n",
    "df = pd.DataFrame({\n",
    "    'epochs': list(range(len(tr_loss))) * 2,\n",
    "    'loss': list(tr_loss) + list(val_loss),\n",
    "    'type': ['training'] * len(tr_loss) + ['validation'] * len(val_loss),\n",
    "    'pcc': np.array(tr_pccs + val_pccs)\n",
    "})"
   ]
  },
  {
   "cell_type": "code",
   "execution_count": null,
   "id": "49e92ad9-f323-4917-a2f8-1e4481ce2561",
   "metadata": {},
   "outputs": [],
   "source": []
  },
  {
   "cell_type": "code",
   "execution_count": 38,
   "id": "ad7f28bc-aa9b-4522-9188-8a44d2f9f41e",
   "metadata": {},
   "outputs": [
    {
     "data": {
      "image/png": "[encoded data removed]",
      "text/plain": [
       "<Figure size 640x480 with 1 Axes>"
      ]
     },
     "metadata": {},
     "output_type": "display_data"
    }
   ],
   "source": [
    "import seaborn as sns\n",
    "ax = sns.lineplot(data=df, x=\"epochs\", y=\"loss\", hue=\"type\")"
   ]
  },
  {
   "cell_type": "code",
   "execution_count": 39,
   "id": "56063974-0493-4765-842c-d564f5882fb0",
   "metadata": {},
   "outputs": [
    {
     "data": {
      "image/png": "[encoded data removed]",
      "text/plain": [
       "<Figure size 640x480 with 1 Axes>"
      ]
     },
     "metadata": {},
     "output_type": "display_data"
    }
   ],
   "source": [
    "ax = sns.lineplot(data=df, x=\"epochs\", y=\"pcc\", hue=\"type\")"
   ]
  }
 ],
 "metadata": {
  "kernelspec": {
   "display_name": "blackice",
   "language": "python",
   "name": "blackice"
  },
  "language_info": {
   "codemirror_mode": {
    "name": "ipython",
    "version": 3
   },
   "file_extension": ".py",
   "mimetype": "text/x-python",
   "name": "python",
   "nbconvert_exporter": "python",
   "pygments_lexer": "ipython3",
   "version": "3.9.7"
  }
 },
 "nbformat": 4,
 "nbformat_minor": 5
}
