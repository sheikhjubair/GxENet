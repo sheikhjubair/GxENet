{
 "cells": [
  {
   "cell_type": "code",
   "execution_count": 2,
   "metadata": {},
   "outputs": [],
   "source": [
    "import os"
   ]
  },
  {
   "cell_type": "code",
   "execution_count": 3,
   "metadata": {},
   "outputs": [],
   "source": [
    "base_dir = '../wheat_all/'\n",
    "with os.scandir('../wheat_all/') as prime_dir:\n",
    "    for entry in prime_dir:\n",
    "        if entry.is_dir():\n",
    "            if entry.name =='done':\n",
    "                continue\n",
    "            current_dir = base_dir + entry.name +'/'\n",
    "            \n",
    "            with os.scandir(current_dir) as subdir:\n",
    "                for file in subdir:\n",
    "                    current_file = current_dir +  file.name\n",
    "                    new_file_name = current_dir + file.name.split('_', maxsplit=1)[-1]\n",
    "                    \n",
    "                    os.rename(current_file, new_file_name)"
   ]
  },
  {
   "cell_type": "code",
   "execution_count": null,
   "metadata": {},
   "outputs": [],
   "source": []
  }
 ],
 "metadata": {
  "kernelspec": {
   "display_name": "conda_kernel",
   "language": "python",
   "name": "conda_kernel"
  },
  "language_info": {
   "codemirror_mode": {
    "name": "ipython",
    "version": 3
   },
   "file_extension": ".py",
   "mimetype": "text/x-python",
   "name": "python",
   "nbconvert_exporter": "python",
   "pygments_lexer": "ipython3",
   "version": "3.8.5"
  }
 },
 "nbformat": 4,
 "nbformat_minor": 4
}
